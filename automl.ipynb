{
  "cells": [
    {
      "cell_type": "markdown",
      "source": [
        "# Automated ML\n",
        "\n",
        "Make sure to run the hyperparameter tuning notebook before this to ensure the dataset is available.\n",
        "- Load all needed packages\n",
        "- Prepare workspace and compute cluster"
      ],
      "metadata": {}
    },
    {
      "cell_type": "code",
      "source": [
        "from azureml.core import Workspace, Experiment\n",
        "from azureml.core.compute import ComputeTarget, AmlCompute\n",
        "from azureml.core import Dataset\n",
        "from azureml.train.automl import AutoMLConfig\n",
        "import os\n",
        "import shutil\n",
        "import opendatasets as od\n",
        "import pandas as pd\n",
        "from azureml.widgets import RunDetails"
      ],
      "outputs": [],
      "execution_count": 1,
      "metadata": {
        "gather": {
          "logged": 1679044697599
        },
        "jupyter": {
          "outputs_hidden": false,
          "source_hidden": false
        },
        "nteract": {
          "transient": {
            "deleting": false
          }
        }
      }
    },
    {
      "cell_type": "code",
      "source": [
        "ws = Workspace.from_config()\n",
        "experiment_name = 'udacity_capstone_automl'\n",
        "\n",
        "experiment = Experiment(ws, experiment_name)"
      ],
      "outputs": [],
      "execution_count": 2,
      "metadata": {
        "gather": {
          "logged": 1679044698694
        }
      }
    },
    {
      "cell_type": "code",
      "source": [
        "cluster_name = \"IntensePurposeCluster\"\n",
        "\n",
        "try:\n",
        "    compute_cluster = ComputeTarget(ws, cluster_name)\n",
        "    print('existing cluster found')\n",
        "except:\n",
        "    compute_config = AmlCompute.provisioning_configuration(vm_size = \"Standard_D2_V2\", max_nodes=4)\n",
        "    compute_cluster = ComputeTarget.create(ws, cluster_name, compute_config)\n",
        "    \n",
        "    compute_cluster.wait_for_completion(show_output=True)"
      ],
      "outputs": [
        {
          "output_type": "stream",
          "name": "stdout",
          "text": "existing cluster found\n"
        }
      ],
      "execution_count": 3,
      "metadata": {
        "gather": {
          "logged": 1679044986464
        }
      }
    },
    {
      "cell_type": "markdown",
      "source": [
        "## Dataset\n",
        "\n",
        "We are using a patient data dataset for covid-19 mortaility from kaggle. We want to try and predict if a patient will die given their circumstances.\n",
        "\n",
        "We are just loading the same dataset that we have registered in the hyperparameter_tuning notebook, so make sure to run that first."
      ],
      "metadata": {}
    },
    {
      "cell_type": "code",
      "source": [
        "    dataset = Dataset.get_by_name(ws, name='capstone_dataset')"
      ],
      "outputs": [],
      "execution_count": 4,
      "metadata": {
        "gather": {
          "logged": 1679044988011
        },
        "jupyter": {
          "outputs_hidden": false,
          "source_hidden": false
        },
        "nteract": {
          "transient": {
            "deleting": false
          }
        }
      }
    },
    {
      "cell_type": "markdown",
      "source": [
        "## AutoML Configuration\n",
        "\n",
        "We run a classification predicting if a patient dies.\n",
        "- The target variable is called just y in the dataset\n",
        "- We want to use AUC_weighted as the primary metric as we have unbalanced data\n",
        "- We utilise 3 fold cross validation to avoid overfitting"
      ],
      "metadata": {}
    },
    {
      "cell_type": "code",
      "source": [
        "automl_config = AutoMLConfig(\n",
        "    # Settings \n",
        "    experiment_timeout_minutes=120,\n",
        "    enable_early_stopping=True,\n",
        "    max_concurrent_iterations=4,\n",
        "    max_cores_per_iteration=-1,\n",
        "    n_cross_validations=3,\n",
        "    compute_target=compute_cluster,\n",
        "    \n",
        "    # Run configurations\n",
        "    task='classification',\n",
        "    primary_metric='AUC_weighted',\n",
        "    training_data=dataset,\n",
        "    label_column_name='y',\n",
        "    enable_onnx_compatible_models=True\n",
        ")"
      ],
      "outputs": [],
      "execution_count": 5,
      "metadata": {
        "gather": {
          "logged": 1679044989040
        },
        "jupyter": {
          "outputs_hidden": false,
          "source_hidden": false
        },
        "nteract": {
          "transient": {
            "deleting": false
          }
        }
      }
    },
    {
      "cell_type": "code",
      "source": [
        "# Submit your experiment\n",
        "remote_run = experiment.submit(automl_config)"
      ],
      "outputs": [
        {
          "output_type": "stream",
          "name": "stdout",
          "text": "Submitting remote run.\n"
        },
        {
          "output_type": "display_data",
          "data": {
            "text/plain": "<IPython.core.display.HTML object>",
            "text/html": "<table style=\"width:100%\"><tr><th>Experiment</th><th>Id</th><th>Type</th><th>Status</th><th>Details Page</th><th>Docs Page</th></tr><tr><td>udacity_capstone_automl</td><td>AutoML_83f6e4d1-0ff5-4e32-8313-e42fcb442cf5</td><td>automl</td><td>NotStarted</td><td><a href=\"https://ml.azure.com/runs/AutoML_83f6e4d1-0ff5-4e32-8313-e42fcb442cf5?wsid=/subscriptions/d4b1a742-d22b-4598-975b-f7d380af08da/resourcegroups/vg-adl-sco-dev-rg/workspaces/vg-adl-sco-dev-ml&amp;tid=f25493ae-1c98-41d7-8a33-0be75f5fe603\" target=\"_blank\" rel=\"noopener\">Link to Azure Machine Learning studio</a></td><td><a href=\"https://docs.microsoft.com/en-us/python/api/overview/azure/ml/intro?view=azure-ml-py\" target=\"_blank\" rel=\"noopener\">Link to Documentation</a></td></tr></table>"
          },
          "metadata": {}
        }
      ],
      "execution_count": 6,
      "metadata": {
        "gather": {
          "logged": 1679044994260
        },
        "jupyter": {
          "outputs_hidden": false,
          "source_hidden": false
        },
        "nteract": {
          "transient": {
            "deleting": false
          }
        }
      }
    },
    {
      "cell_type": "markdown",
      "source": [
        "## Run Details\n",
        "\n",
        "We utilise AutoML to efficiently test a plenthora of models and evaluate quickly.\n",
        "This cell will only complete once the training run completes such that the entire notebook can be run at once without causing errors."
      ],
      "metadata": {}
    },
    {
      "cell_type": "code",
      "source": [
        "RunDetails(remote_run).show()\n",
        "remote_run.wait_for_completion()"
      ],
      "outputs": [
        {
          "output_type": "display_data",
          "data": {
            "text/plain": "_AutoMLWidget(widget_settings={'childWidgetDisplay': 'popup', 'send_telemetry': False, 'log_level': 'INFO', 's…",
            "application/vnd.jupyter.widget-view+json": {
              "version_major": 2,
              "version_minor": 0,
              "model_id": "c6128dd5c25d417ea514b00c0f07a676"
            }
          },
          "metadata": {}
        },
        {
          "output_type": "display_data",
          "data": {
            "application/aml.mini.widget.v1": "{\"status\": \"Completed\", \"workbench_run_details_uri\": \"https://ml.azure.com/runs/AutoML_83f6e4d1-0ff5-4e32-8313-e42fcb442cf5?wsid=/subscriptions/d4b1a742-d22b-4598-975b-f7d380af08da/resourcegroups/vg-adl-sco-dev-rg/workspaces/vg-adl-sco-dev-ml&tid=f25493ae-1c98-41d7-8a33-0be75f5fe603\", \"run_id\": \"AutoML_83f6e4d1-0ff5-4e32-8313-e42fcb442cf5\", \"run_properties\": {\"run_id\": \"AutoML_83f6e4d1-0ff5-4e32-8313-e42fcb442cf5\", \"created_utc\": \"2023-03-17T09:23:11.711433Z\", \"properties\": {\"num_iterations\": \"1000\", \"training_type\": \"TrainFull\", \"acquisition_function\": \"EI\", \"primary_metric\": \"AUC_weighted\", \"train_split\": \"0\", \"acquisition_parameter\": \"0\", \"num_cross_validation\": \"3\", \"target\": \"IntensePurposeCluster\", \"AMLSettingsJsonString\": \"{\\\"path\\\":null,\\\"name\\\":\\\"udacity_capstone_automl\\\",\\\"subscription_id\\\":\\\"d4b1a742-d22b-4598-975b-f7d380af08da\\\",\\\"resource_group\\\":\\\"vg-adl-sco-dev-rg\\\",\\\"workspace_name\\\":\\\"vg-adl-sco-dev-ml\\\",\\\"region\\\":\\\"westeurope\\\",\\\"compute_target\\\":\\\"IntensePurposeCluster\\\",\\\"spark_service\\\":null,\\\"azure_service\\\":\\\"remote\\\",\\\"many_models\\\":false,\\\"pipeline_fetch_max_batch_size\\\":1,\\\"enable_batch_run\\\":true,\\\"enable_parallel_run\\\":false,\\\"num_procs\\\":null,\\\"enable_run_restructure\\\":false,\\\"start_auxiliary_runs_before_parent_complete\\\":false,\\\"enable_code_generation\\\":true,\\\"iterations\\\":1000,\\\"primary_metric\\\":\\\"AUC_weighted\\\",\\\"task_type\\\":\\\"classification\\\",\\\"positive_label\\\":null,\\\"data_script\\\":null,\\\"test_size\\\":0.0,\\\"test_include_predictions_only\\\":false,\\\"validation_size\\\":0.0,\\\"n_cross_validations\\\":3,\\\"y_min\\\":null,\\\"y_max\\\":null,\\\"num_classes\\\":null,\\\"featurization\\\":\\\"auto\\\",\\\"_ignore_package_version_incompatibilities\\\":false,\\\"is_timeseries\\\":false,\\\"max_cores_per_iteration\\\":-1,\\\"max_concurrent_iterations\\\":4,\\\"iteration_timeout_minutes\\\":null,\\\"mem_in_mb\\\":null,\\\"enforce_time_on_windows\\\":false,\\\"experiment_timeout_minutes\\\":120,\\\"experiment_exit_score\\\":null,\\\"partition_column_names\\\":null,\\\"whitelist_models\\\":null,\\\"blacklist_algos\\\":[\\\"TensorFlowLinearClassifier\\\",\\\"TensorFlowDNN\\\"],\\\"supported_models\\\":[\\\"TensorFlowDNN\\\",\\\"SGD\\\",\\\"RandomForest\\\",\\\"LightGBM\\\",\\\"DecisionTree\\\",\\\"LinearSVM\\\",\\\"LogisticRegression\\\",\\\"MultinomialNaiveBayes\\\",\\\"AveragedPerceptronClassifier\\\",\\\"GradientBoosting\\\",\\\"TensorFlowLinearClassifier\\\",\\\"BernoulliNaiveBayes\\\",\\\"XGBoostClassifier\\\",\\\"TabnetClassifier\\\",\\\"SVM\\\",\\\"ExtremeRandomTrees\\\",\\\"KNN\\\"],\\\"private_models\\\":[],\\\"auto_blacklist\\\":true,\\\"blacklist_samples_reached\\\":false,\\\"exclude_nan_labels\\\":true,\\\"verbosity\\\":20,\\\"_debug_log\\\":\\\"azureml_automl.log\\\",\\\"show_warnings\\\":false,\\\"model_explainability\\\":true,\\\"service_url\\\":null,\\\"sdk_url\\\":null,\\\"sdk_packages\\\":null,\\\"enable_onnx_compatible_models\\\":false,\\\"enable_split_onnx_featurizer_estimator_models\\\":false,\\\"vm_type\\\":\\\"STANDARD_D4\\\",\\\"telemetry_verbosity\\\":20,\\\"send_telemetry\\\":true,\\\"enable_dnn\\\":false,\\\"scenario\\\":\\\"AutoML\\\",\\\"environment_label\\\":null,\\\"save_mlflow\\\":false,\\\"enable_categorical_indicators\\\":false,\\\"force_text_dnn\\\":false,\\\"enable_feature_sweeping\\\":true,\\\"enable_early_stopping\\\":true,\\\"early_stopping_n_iters\\\":10,\\\"arguments\\\":null,\\\"dataset_id\\\":\\\"a9a25856-6a51-4ce6-a112-8e3da5dda378\\\",\\\"hyperdrive_config\\\":null,\\\"validation_dataset_id\\\":null,\\\"run_source\\\":null,\\\"metrics\\\":null,\\\"enable_metric_confidence\\\":false,\\\"enable_ensembling\\\":true,\\\"enable_stack_ensembling\\\":true,\\\"ensemble_iterations\\\":15,\\\"enable_tf\\\":false,\\\"enable_subsampling\\\":null,\\\"subsample_seed\\\":null,\\\"enable_nimbusml\\\":false,\\\"enable_streaming\\\":false,\\\"force_streaming\\\":false,\\\"track_child_runs\\\":true,\\\"n_best_runs\\\":1,\\\"allowed_private_models\\\":[],\\\"label_column_name\\\":\\\"y\\\",\\\"weight_column_name\\\":null,\\\"cv_split_column_names\\\":null,\\\"enable_local_managed\\\":false,\\\"_local_managed_run_id\\\":null,\\\"cost_mode\\\":1,\\\"lag_length\\\":0,\\\"metric_operation\\\":\\\"maximize\\\",\\\"preprocess\\\":true}\", \"DataPrepJsonString\": \"{\\\\\\\"training_data\\\\\\\": {\\\\\\\"datasetId\\\\\\\": \\\\\\\"a9a25856-6a51-4ce6-a112-8e3da5dda378\\\\\\\"}, \\\\\\\"datasets\\\\\\\": 0}\", \"EnableSubsampling\": null, \"runTemplate\": \"AutoML\", \"azureml.runsource\": \"automl\", \"display_task_type\": \"classification\", \"dependencies_versions\": \"{\\\"azureml-widgets\\\": \\\"1.47.0\\\", \\\"azureml-training-tabular\\\": \\\"1.47.0\\\", \\\"azureml-train\\\": \\\"1.47.0\\\", \\\"azureml-train-restclients-hyperdrive\\\": \\\"1.47.0\\\", \\\"azureml-train-core\\\": \\\"1.47.0\\\", \\\"azureml-train-automl\\\": \\\"1.47.0\\\", \\\"azureml-train-automl-runtime\\\": \\\"1.47.0\\\", \\\"azureml-train-automl-client\\\": \\\"1.47.0\\\", \\\"azureml-tensorboard\\\": \\\"1.47.0\\\", \\\"azureml-telemetry\\\": \\\"1.47.0\\\", \\\"azureml-sdk\\\": \\\"1.47.0\\\", \\\"azureml-samples\\\": \\\"0+unknown\\\", \\\"azureml-responsibleai\\\": \\\"1.47.0\\\", \\\"azureml-pipeline\\\": \\\"1.47.0\\\", \\\"azureml-pipeline-steps\\\": \\\"1.47.0\\\", \\\"azureml-pipeline-core\\\": \\\"1.47.0\\\", \\\"azureml-opendatasets\\\": \\\"1.47.0\\\", \\\"azureml-mlflow\\\": \\\"1.47.0\\\", \\\"azureml-interpret\\\": \\\"1.47.0\\\", \\\"azureml-inference-server-http\\\": \\\"0.7.6\\\", \\\"azureml-explain-model\\\": \\\"1.47.0\\\", \\\"azureml-defaults\\\": \\\"1.47.0\\\", \\\"azureml-dataset-runtime\\\": \\\"1.47.0\\\", \\\"azureml-dataprep\\\": \\\"4.5.7\\\", \\\"azureml-dataprep-rslex\\\": \\\"2.11.4\\\", \\\"azureml-dataprep-native\\\": \\\"38.0.0\\\", \\\"azureml-datadrift\\\": \\\"1.47.0\\\", \\\"azureml-core\\\": \\\"1.47.0\\\", \\\"azureml-contrib-services\\\": \\\"1.47.0\\\", \\\"azureml-contrib-server\\\": \\\"1.47.0\\\", \\\"azureml-contrib-reinforcementlearning\\\": \\\"1.47.0\\\", \\\"azureml-contrib-pipeline-steps\\\": \\\"1.47.0\\\", \\\"azureml-contrib-notebook\\\": \\\"1.47.0\\\", \\\"azureml-contrib-fairness\\\": \\\"1.47.0\\\", \\\"azureml-contrib-dataset\\\": \\\"1.47.0\\\", \\\"azureml-contrib-automl-pipeline-steps\\\": \\\"1.47.0\\\", \\\"azureml-cli-common\\\": \\\"1.47.0\\\", \\\"azureml-automl-runtime\\\": \\\"1.47.0\\\", \\\"azureml-automl-dnn-nlp\\\": \\\"1.47.0\\\", \\\"azureml-automl-core\\\": \\\"1.47.0\\\", \\\"azureml-accel-models\\\": \\\"1.47.0\\\"}\", \"_aml_system_scenario_identification\": \"Remote.Parent\", \"ClientType\": \"SDK\", \"PlatformVersion\": \"DPV1\", \"environment_cpu_name\": \"AzureML-AutoML\", \"environment_cpu_label\": \"nimbus-deprecation\", \"environment_gpu_name\": \"AzureML-AutoML-GPU\", \"environment_gpu_label\": \"prod\", \"root_attribution\": \"automl\", \"attribution\": \"AutoML\", \"Orchestrator\": \"AutoML\", \"CancelUri\": \"https://westeurope.api.azureml.ms/jasmine/v1.0/subscriptions/d4b1a742-d22b-4598-975b-f7d380af08da/resourceGroups/vg-adl-sco-dev-rg/providers/Microsoft.MachineLearningServices/workspaces/vg-adl-sco-dev-ml/experimentids/51c4648a-61d0-4dfd-9c10-4b91cdcbd04d/cancel/AutoML_83f6e4d1-0ff5-4e32-8313-e42fcb442cf5\", \"ClientSdkVersion\": \"1.48.0.post2\", \"snapshotId\": \"00000000-0000-0000-0000-000000000000\", \"SetupRunId\": \"AutoML_83f6e4d1-0ff5-4e32-8313-e42fcb442cf5_setup\", \"SetupRunContainerId\": \"dcid.AutoML_83f6e4d1-0ff5-4e32-8313-e42fcb442cf5_setup\", \"FeaturizationRunJsonPath\": \"featurizer_container.json\", \"FeaturizationRunId\": \"AutoML_83f6e4d1-0ff5-4e32-8313-e42fcb442cf5_featurize\", \"ProblemInfoJsonString\": \"{\\\"dataset_num_categorical\\\": 0, \\\"is_sparse\\\": true, \\\"subsampling\\\": false, \\\"has_extra_col\\\": true, \\\"dataset_classes\\\": 2, \\\"dataset_features\\\": 32, \\\"dataset_samples\\\": 1048575, \\\"single_frequency_class_detected\\\": false}\", \"ModelExplainRunId\": \"AutoML_83f6e4d1-0ff5-4e32-8313-e42fcb442cf5_ModelExplain\"}, \"tags\": {\"model_explain_run\": \"best_run\", \"_aml_system_automl_run_workspace_id\": \"09032817-7e59-4894-9bed-4b0b04aa611f\", \"_aml_system_azureml.automlComponent\": \"AutoML\", \"pipeline_id_000\": \"5dfac790c5c209f98a1da2dc1c7fb76f0397324f;c7af0367625be6ac5c2fecbfc72ed444cb7a2111;51ae05309834b29f71340af1008fc94fbd8213f4;ce2643edf3d450b10c86c7d034a9bc952dc282d3;039a99c3d5147edeb525249e2660628be3e8b83f;a3dadd95854bf6116ab454844302b51d417d78b7;1dfdf370ba770047b14bfa59c40920815defcdab;294650ec23bc3d067a4972de7ceb12f6e97260fa;681a59302459aec2cc115ddbc14e1d28f4b3b8df;5bcf69d12307c5f0246b0d33ab19666443595ac9;6f4a466f84f725a47910c1dff062a1bb46df2a21;dea7fdbaedc77258dbfe31dbfed41e768ca38939;c74787cd2f0507b852a1ac70d504d83ac9bdec83;79ebb3b8c385e3190e3dd4c1fa28b74730528045;a72eb56f3d4aadb7b7f0149ba6e5f05657a95ca1;9610149fbcf43017aa810a290e9c04cbe6fa8684;1e38ae92baee19b18f211a8b14c16015d5ee3dc3;a7434e890cabef86b0ce4ae71fb633e1e92b854d;dd46719e1e1ca3df6e6826afb96bf9be8390e6e2;208056285bd1883d5bd7d4e4e996a1c71c4b0033;5dcd9bc8a74634130a855a68c1bf956ce7160f98;ee365d2bc711bc6838929328cc4ff4b890fbc6c3;3fe9ace0255a98a01a321c2b4c6ab86f6c1db8e5;f9c4839cd35f7fe03bcc11d87a99d82f63f333dc;dfc631bbb8f3be228d228210719dafe9e4a19b00;b6800019e4bc82f1202faba1c46184f661a221d0;27e5aa6ccbbc7e49f26b089f3fe952c332496275;63f99ff071c9e5242485d4f4263247b7d52eb65d;20fd1e9dfd1591befeb8b2aab66569e844560fc1;d94789ecf0b6084791fa7d1e8af3d45c373c7a88;b0ad4680d20c8be804f214d35a1748f236db0dcc;8471c6ac0ba566e73574d3d07a6ad5a6a7b789fb;56e104ead2b42bdead2d0ad427d932fd1fd9869e;db2e33972fb53a15db7a1140e9735bc70c565870;4777cef1f940dbc12d23994db06a3e6cd41034f4;3006b004727b2f58714755959e7e65edfee82b6b;d501b3b77f4742911594e12d615bc5fc4d16b30d;01f10020373a0cfe0d779859c14d33bd05b6fd6a;d969a2f6d3c95a0ff9760359f722a76996262e52;__AutoML_Ensemble__;__AutoML_Stack_Ensemble__\", \"score\": \"\", \"predicted_cost\": \"\", \"fit_time\": \"\", \"training_percent\": \"\", \"iteration\": \"\", \"run_preprocessor\": \"\", \"run_algorithm\": \"\", \"dynamic_allowlisting_iterations\": \"<25>;<30>;<35>;\", \"_aml_system_azureml.automl_early_exit_message\": \"No scores improved over last 10 iterations, so experiment stopped early. This early stopping behavior can be disabled by setting enable_early_stopping = False in AutoMLConfig for notebook/python SDK runs.\", \"automl_best_child_run_id\": \"AutoML_83f6e4d1-0ff5-4e32-8313-e42fcb442cf5_39\", \"model_explain_best_run_child_id\": \"AutoML_83f6e4d1-0ff5-4e32-8313-e42fcb442cf5_39\"}, \"end_time_utc\": \"2023-03-17T12:19:59.932737Z\", \"status\": \"Completed\", \"log_files\": {}, \"log_groups\": [], \"run_duration\": \"2:56:48\", \"run_number\": \"1679044991\", \"run_queued_details\": {\"status\": \"Completed\", \"details\": null}}, \"child_runs\": [{\"run_id\": \"AutoML_83f6e4d1-0ff5-4e32-8313-e42fcb442cf5_setup\", \"run_number\": 1679045006, \"metric\": null, \"status\": \"Completed\", \"run_type\": \"azureml.scriptrun\", \"training_percent\": null, \"start_time\": \"2023-03-17T09:29:23.414434Z\", \"end_time\": \"2023-03-17T09:33:06.776041Z\", \"created_time\": \"2023-03-17T09:23:26.318785Z\", \"created_time_dt\": \"2023-03-17T09:23:26.318785Z\", \"duration\": \"0:09:40\", \"iteration\": null, \"goal\": null, \"run_name\": \"Completed\", \"run_properties\": null}, {\"run_id\": \"AutoML_83f6e4d1-0ff5-4e32-8313-e42fcb442cf5_featurize\", \"run_number\": 1679045587, \"metric\": null, \"status\": \"Completed\", \"run_type\": \"automl.featurization\", \"training_percent\": null, \"start_time\": \"2023-03-17T09:33:07.60094Z\", \"end_time\": \"2023-03-17T09:47:34.374779Z\", \"created_time\": \"2023-03-17T09:33:07.221795Z\", \"created_time_dt\": \"2023-03-17T09:33:07.221795Z\", \"duration\": \"0:14:27\", \"iteration\": null, \"goal\": null, \"run_name\": \"Completed\", \"run_properties\": null}, {\"run_id\": \"AutoML_83f6e4d1-0ff5-4e32-8313-e42fcb442cf5_0\", \"run_number\": 1679046456, \"metric\": null, \"status\": \"Completed\", \"run_type\": null, \"training_percent\": \"100\", \"start_time\": \"2023-03-17T09:55:42.160258Z\", \"end_time\": \"2023-03-17T09:56:13.051732Z\", \"created_time\": \"2023-03-17T09:47:36.186216Z\", \"created_time_dt\": \"2023-03-17T09:47:36.186216Z\", \"duration\": \"0:08:36\", \"iteration\": \"0\", \"goal\": \"AUC_weighted_max\", \"run_name\": \"MaxAbsScaler, LightGBM\", \"run_properties\": \"copy=True\", \"primary_metric\": 0.96618804, \"best_metric\": 0.96618804}, {\"run_id\": \"AutoML_83f6e4d1-0ff5-4e32-8313-e42fcb442cf5_2\", \"run_number\": 1679046457, \"metric\": null, \"status\": \"Completed\", \"run_type\": null, \"training_percent\": \"100\", \"start_time\": \"2023-03-17T09:57:38.842276Z\", \"end_time\": \"2023-03-17T09:58:12.095302Z\", \"created_time\": \"2023-03-17T09:47:37.213101Z\", \"created_time_dt\": \"2023-03-17T09:47:37.213101Z\", \"duration\": \"0:10:34\", \"iteration\": \"2\", \"goal\": \"AUC_weighted_max\", \"run_name\": \"MaxAbsScaler, ExtremeRandomTrees\", \"run_properties\": \"copy=True\", \"primary_metric\": 0.94824918, \"best_metric\": 0.96618804}, {\"run_id\": \"AutoML_83f6e4d1-0ff5-4e32-8313-e42fcb442cf5_worker_0\", \"run_number\": 1679046458, \"metric\": null, \"status\": \"Completed\", \"run_type\": \"azureml.scriptrun\", \"training_percent\": null, \"start_time\": \"2023-03-17T09:54:17.139024Z\", \"end_time\": \"2023-03-17T09:59:16.84625Z\", \"created_time\": \"2023-03-17T09:47:38.898807Z\", \"created_time_dt\": \"2023-03-17T09:47:38.898807Z\", \"duration\": \"0:11:37\", \"iteration\": null, \"goal\": null, \"run_name\": \"Completed\", \"run_properties\": null}, {\"run_id\": \"AutoML_83f6e4d1-0ff5-4e32-8313-e42fcb442cf5_5\", \"run_number\": 1679046459, \"metric\": null, \"status\": \"Completed\", \"run_type\": null, \"training_percent\": \"100\", \"start_time\": \"2023-03-17T09:59:35.134535Z\", \"end_time\": \"2023-03-17T10:00:08.963796Z\", \"created_time\": \"2023-03-17T09:47:39.111697Z\", \"created_time_dt\": \"2023-03-17T09:47:39.111697Z\", \"duration\": \"0:12:29\", \"iteration\": \"5\", \"goal\": \"AUC_weighted_max\", \"run_name\": \"SparseNormalizer, XGBoostClassifier\", \"run_properties\": \"copy=True, norm='max'\", \"primary_metric\": 0.96341636, \"best_metric\": 0.96618804}, {\"run_id\": \"AutoML_83f6e4d1-0ff5-4e32-8313-e42fcb442cf5_7\", \"run_number\": 1679046460, \"metric\": null, \"status\": \"Completed\", \"run_type\": null, \"training_percent\": \"100\", \"start_time\": \"2023-03-17T10:01:54.552604Z\", \"end_time\": \"2023-03-17T10:02:28.293345Z\", \"created_time\": \"2023-03-17T09:47:40.188008Z\", \"created_time_dt\": \"2023-03-17T09:47:40.188008Z\", \"duration\": \"0:14:48\", \"iteration\": \"7\", \"goal\": \"AUC_weighted_max\", \"run_name\": \"StandardScalerWrapper, XGBoostClassifier\", \"run_properties\": \"copy=True, with_mean=False, with_std=False\", \"primary_metric\": 0.96485362, \"best_metric\": 0.96618804}, {\"run_id\": \"AutoML_83f6e4d1-0ff5-4e32-8313-e42fcb442cf5_worker_1\", \"run_number\": 1679046461, \"metric\": null, \"status\": \"Completed\", \"run_type\": \"azureml.scriptrun\", \"training_percent\": null, \"start_time\": \"2023-03-17T09:59:19.77523Z\", \"end_time\": \"2023-03-17T10:03:49.607878Z\", \"created_time\": \"2023-03-17T09:47:41.495069Z\", \"created_time_dt\": \"2023-03-17T09:47:41.495069Z\", \"duration\": \"0:16:08\", \"iteration\": null, \"goal\": null, \"run_name\": \"Completed\", \"run_properties\": null}, {\"run_id\": \"AutoML_83f6e4d1-0ff5-4e32-8313-e42fcb442cf5_11\", \"run_number\": 1679046462, \"metric\": null, \"status\": \"Completed\", \"run_type\": null, \"training_percent\": \"100\", \"start_time\": \"2023-03-17T10:04:34.424273Z\", \"end_time\": \"2023-03-17T10:08:06.297421Z\", \"created_time\": \"2023-03-17T09:47:42.430969Z\", \"created_time_dt\": \"2023-03-17T09:47:42.430969Z\", \"duration\": \"0:20:23\", \"iteration\": \"11\", \"goal\": \"AUC_weighted_max\", \"run_name\": \"MaxAbsScaler, ExtremeRandomTrees\", \"run_properties\": \"copy=True\", \"primary_metric\": 0.95509902, \"best_metric\": 0.96618804}, {\"run_id\": \"AutoML_83f6e4d1-0ff5-4e32-8313-e42fcb442cf5_13\", \"run_number\": 1679046463, \"metric\": null, \"status\": \"Completed\", \"run_type\": null, \"training_percent\": \"100\", \"start_time\": \"2023-03-17T10:08:53.709332Z\", \"end_time\": \"2023-03-17T10:09:19.315043Z\", \"created_time\": \"2023-03-17T09:47:43.436625Z\", \"created_time_dt\": \"2023-03-17T09:47:43.436625Z\", \"duration\": \"0:21:35\", \"iteration\": \"13\", \"goal\": \"AUC_weighted_max\", \"run_name\": \"StandardScalerWrapper, ExtremeRandomTrees\", \"run_properties\": \"copy=True, with_mean=False, with_std=False\", \"primary_metric\": 0.93060255, \"best_metric\": 0.96618804}, {\"run_id\": \"AutoML_83f6e4d1-0ff5-4e32-8313-e42fcb442cf5_worker_2\", \"run_number\": 1679046464, \"metric\": null, \"status\": \"Completed\", \"run_type\": \"azureml.scriptrun\", \"training_percent\": null, \"start_time\": \"2023-03-17T10:03:55.572093Z\", \"end_time\": \"2023-03-17T10:28:20.947729Z\", \"created_time\": \"2023-03-17T09:47:44.27649Z\", \"created_time_dt\": \"2023-03-17T09:47:44.27649Z\", \"duration\": \"0:40:36\", \"iteration\": null, \"goal\": null, \"run_name\": \"Completed\", \"run_properties\": null}, {\"run_id\": \"AutoML_83f6e4d1-0ff5-4e32-8313-e42fcb442cf5_17\", \"run_number\": 1679046465, \"metric\": null, \"status\": \"Completed\", \"run_type\": null, \"training_percent\": \"100\", \"start_time\": \"2023-03-17T10:31:02.83125Z\", \"end_time\": \"2023-03-17T10:38:02.43188Z\", \"created_time\": \"2023-03-17T09:47:45.461924Z\", \"created_time_dt\": \"2023-03-17T09:47:45.461924Z\", \"duration\": \"0:50:16\", \"iteration\": \"17\", \"goal\": \"AUC_weighted_max\", \"run_name\": \"StandardScalerWrapper, ExtremeRandomTrees\", \"run_properties\": \"copy=True, with_mean=False, with_std=True\", \"primary_metric\": 0.95927931, \"best_metric\": 0.96618804}, {\"run_id\": \"AutoML_83f6e4d1-0ff5-4e32-8313-e42fcb442cf5_worker_3\", \"run_number\": 1679046466, \"metric\": null, \"status\": \"Completed\", \"run_type\": \"azureml.scriptrun\", \"training_percent\": null, \"start_time\": \"2023-03-17T10:28:23.059733Z\", \"end_time\": \"2023-03-17T10:41:25.859438Z\", \"created_time\": \"2023-03-17T09:47:46.915059Z\", \"created_time_dt\": \"2023-03-17T09:47:46.915059Z\", \"duration\": \"0:53:38\", \"iteration\": null, \"goal\": null, \"run_name\": \"Completed\", \"run_properties\": null}, {\"run_id\": \"AutoML_83f6e4d1-0ff5-4e32-8313-e42fcb442cf5_20\", \"run_number\": 1679049065, \"metric\": null, \"status\": \"Completed\", \"run_type\": \"azureml.scriptrun\", \"training_percent\": \"100\", \"start_time\": \"2023-03-17T10:49:54.214216Z\", \"end_time\": \"2023-03-17T10:52:12.942702Z\", \"created_time\": \"2023-03-17T10:31:05.159728Z\", \"created_time_dt\": \"2023-03-17T10:31:05.159728Z\", \"duration\": \"0:21:07\", \"iteration\": \"20\", \"goal\": \"AUC_weighted_max\", \"run_name\": \"MaxAbsScaler, LogisticRegression\", \"run_properties\": \"copy=True\", \"primary_metric\": 0.96184068, \"best_metric\": 0.96618804}, {\"run_id\": \"AutoML_83f6e4d1-0ff5-4e32-8313-e42fcb442cf5_23\", \"run_number\": 1679049801, \"metric\": null, \"status\": \"Completed\", \"run_type\": \"azureml.scriptrun\", \"training_percent\": \"100\", \"start_time\": \"2023-03-17T10:54:54.978866Z\", \"end_time\": \"2023-03-17T10:55:43.122042Z\", \"created_time\": \"2023-03-17T10:43:21.29613Z\", \"created_time_dt\": \"2023-03-17T10:43:21.29613Z\", \"duration\": \"0:12:21\", \"iteration\": \"23\", \"goal\": \"AUC_weighted_max\", \"run_name\": \"MaxAbsScaler, RandomForest\", \"run_properties\": \"copy=True\", \"primary_metric\": 0.94463964, \"best_metric\": 0.96618804}, {\"run_id\": \"AutoML_83f6e4d1-0ff5-4e32-8313-e42fcb442cf5_24\", \"run_number\": 1679050335, \"metric\": null, \"status\": \"Completed\", \"run_type\": \"azureml.scriptrun\", \"training_percent\": \"100\", \"start_time\": \"2023-03-17T11:02:40.472041Z\", \"end_time\": \"2023-03-17T11:04:40.93014Z\", \"created_time\": \"2023-03-17T10:52:15.819352Z\", \"created_time_dt\": \"2023-03-17T10:52:15.819352Z\", \"duration\": \"0:12:25\", \"iteration\": \"24\", \"goal\": \"AUC_weighted_max\", \"run_name\": \"SparseNormalizer, XGBoostClassifier\", \"run_properties\": \"copy=True, norm='max'\", \"primary_metric\": 0.96407346, \"best_metric\": 0.96618804}, {\"run_id\": \"AutoML_83f6e4d1-0ff5-4e32-8313-e42fcb442cf5_25\", \"run_number\": 1679050396, \"metric\": null, \"status\": \"Completed\", \"run_type\": \"azureml.scriptrun\", \"training_percent\": \"100\", \"start_time\": \"2023-03-17T11:04:45.539622Z\", \"end_time\": \"2023-03-17T11:05:34.993305Z\", \"created_time\": \"2023-03-17T10:53:16.607057Z\", \"created_time_dt\": \"2023-03-17T10:53:16.607057Z\", \"duration\": \"0:12:18\", \"iteration\": \"25\", \"goal\": \"AUC_weighted_max\", \"run_name\": \"StandardScalerWrapper, LightGBM\", \"run_properties\": \"copy=True, with_mean=False, with_std=False\", \"primary_metric\": 0.96225189, \"best_metric\": 0.96618804}, {\"run_id\": \"AutoML_83f6e4d1-0ff5-4e32-8313-e42fcb442cf5_26\", \"run_number\": 1679050492, \"metric\": null, \"status\": \"Completed\", \"run_type\": \"azureml.scriptrun\", \"training_percent\": \"100\", \"start_time\": \"2023-03-17T11:05:39.383821Z\", \"end_time\": \"2023-03-17T11:07:07.475014Z\", \"created_time\": \"2023-03-17T10:54:52.921839Z\", \"created_time_dt\": \"2023-03-17T10:54:52.921839Z\", \"duration\": \"0:12:14\", \"iteration\": \"26\", \"goal\": \"AUC_weighted_max\", \"run_name\": \"MaxAbsScaler, LightGBM\", \"run_properties\": \"copy=True\", \"primary_metric\": 0.94413372, \"best_metric\": 0.96618804}, {\"run_id\": \"AutoML_83f6e4d1-0ff5-4e32-8313-e42fcb442cf5_27\", \"run_number\": 1679050545, \"metric\": null, \"status\": \"Completed\", \"run_type\": \"azureml.scriptrun\", \"training_percent\": \"100\", \"start_time\": \"2023-03-17T11:07:09.887932Z\", \"end_time\": \"2023-03-17T11:08:16.103284Z\", \"created_time\": \"2023-03-17T10:55:45.007242Z\", \"created_time_dt\": \"2023-03-17T10:55:45.007242Z\", \"duration\": \"0:12:31\", \"iteration\": \"27\", \"goal\": \"AUC_weighted_max\", \"run_name\": \"MaxAbsScaler, LightGBM\", \"run_properties\": \"copy=True\", \"primary_metric\": 0.96565316, \"best_metric\": 0.96618804}, {\"run_id\": \"AutoML_83f6e4d1-0ff5-4e32-8313-e42fcb442cf5_28\", \"run_number\": 1679051082, \"metric\": null, \"status\": \"Completed\", \"run_type\": \"azureml.scriptrun\", \"training_percent\": \"100\", \"start_time\": \"2023-03-17T11:17:03.122771Z\", \"end_time\": \"2023-03-17T11:19:25.366Z\", \"created_time\": \"2023-03-17T11:04:42.414788Z\", \"created_time_dt\": \"2023-03-17T11:04:42.414788Z\", \"duration\": \"0:14:42\", \"iteration\": \"28\", \"goal\": \"AUC_weighted_max\", \"run_name\": \"StandardScalerWrapper, LightGBM\", \"run_properties\": \"copy=True, with_mean=False, with_std=False\", \"primary_metric\": 0.94391814, \"best_metric\": 0.96618804}, {\"run_id\": \"AutoML_83f6e4d1-0ff5-4e32-8313-e42fcb442cf5_29\", \"run_number\": 1679051136, \"metric\": null, \"status\": \"Completed\", \"run_type\": \"azureml.scriptrun\", \"training_percent\": \"100\", \"start_time\": \"2023-03-17T11:19:28.061859Z\", \"end_time\": \"2023-03-17T11:21:16.225232Z\", \"created_time\": \"2023-03-17T11:05:36.674355Z\", \"created_time_dt\": \"2023-03-17T11:05:36.674355Z\", \"duration\": \"0:15:39\", \"iteration\": \"29\", \"goal\": \"AUC_weighted_max\", \"run_name\": \"StandardScalerWrapper, XGBoostClassifier\", \"run_properties\": \"copy=True, with_mean=False, with_std=False\", \"primary_metric\": 0.96613824, \"best_metric\": 0.96618804}, {\"run_id\": \"AutoML_83f6e4d1-0ff5-4e32-8313-e42fcb442cf5_30\", \"run_number\": 1679051230, \"metric\": null, \"status\": \"Completed\", \"run_type\": \"azureml.scriptrun\", \"training_percent\": \"100\", \"start_time\": \"2023-03-17T11:21:20.025207Z\", \"end_time\": \"2023-03-17T11:22:14.683957Z\", \"created_time\": \"2023-03-17T11:07:10.318614Z\", \"created_time_dt\": \"2023-03-17T11:07:10.318614Z\", \"duration\": \"0:15:04\", \"iteration\": \"30\", \"goal\": \"AUC_weighted_max\", \"run_name\": \"StandardScalerWrapper, XGBoostClassifier\", \"run_properties\": \"copy=True, with_mean=False, with_std=False\", \"primary_metric\": 0.96463313, \"best_metric\": 0.96618804}, {\"run_id\": \"AutoML_83f6e4d1-0ff5-4e32-8313-e42fcb442cf5_31\", \"run_number\": 1679051297, \"metric\": null, \"status\": \"Completed\", \"run_type\": \"azureml.scriptrun\", \"training_percent\": \"100\", \"start_time\": \"2023-03-17T11:22:18.474929Z\", \"end_time\": \"2023-03-17T11:30:01.912549Z\", \"created_time\": \"2023-03-17T11:08:17.909523Z\", \"created_time_dt\": \"2023-03-17T11:08:17.909523Z\", \"duration\": \"0:21:44\", \"iteration\": \"31\", \"goal\": \"AUC_weighted_max\", \"run_name\": \"StandardScalerWrapper, XGBoostClassifier\", \"run_properties\": \"copy=True, with_mean=False, with_std=False\", \"primary_metric\": 0.96218233, \"best_metric\": 0.96618804}, {\"run_id\": \"AutoML_83f6e4d1-0ff5-4e32-8313-e42fcb442cf5_32\", \"run_number\": 1679051967, \"metric\": null, \"status\": \"Completed\", \"run_type\": \"azureml.scriptrun\", \"training_percent\": \"100\", \"start_time\": \"2023-03-17T11:41:43.331103Z\", \"end_time\": \"2023-03-17T11:43:58.097728Z\", \"created_time\": \"2023-03-17T11:19:26.996525Z\", \"created_time_dt\": \"2023-03-17T11:19:26.996525Z\", \"duration\": \"0:24:31\", \"iteration\": \"32\", \"goal\": \"AUC_weighted_max\", \"run_name\": \"SparseNormalizer, XGBoostClassifier\", \"run_properties\": \"copy=True, norm='max'\", \"primary_metric\": 0.96545104, \"best_metric\": 0.96618804}, {\"run_id\": \"AutoML_83f6e4d1-0ff5-4e32-8313-e42fcb442cf5_33\", \"run_number\": 1679052077, \"metric\": null, \"status\": \"Completed\", \"run_type\": \"azureml.scriptrun\", \"training_percent\": \"100\", \"start_time\": \"2023-03-17T11:44:02.764593Z\", \"end_time\": \"2023-03-17T11:44:54.616274Z\", \"created_time\": \"2023-03-17T11:21:17.81928Z\", \"created_time_dt\": \"2023-03-17T11:21:17.81928Z\", \"duration\": \"0:23:36\", \"iteration\": \"33\", \"goal\": \"AUC_weighted_max\", \"run_name\": \"StandardScalerWrapper, XGBoostClassifier\", \"run_properties\": \"copy=True, with_mean=False, with_std=False\", \"primary_metric\": 0.95636891, \"best_metric\": 0.96618804}, {\"run_id\": \"AutoML_83f6e4d1-0ff5-4e32-8313-e42fcb442cf5_34\", \"run_number\": 1679052136, \"metric\": null, \"status\": \"Completed\", \"run_type\": \"azureml.scriptrun\", \"training_percent\": \"100\", \"start_time\": \"2023-03-17T11:44:56.780041Z\", \"end_time\": \"2023-03-17T11:45:59.691219Z\", \"created_time\": \"2023-03-17T11:22:16.265121Z\", \"created_time_dt\": \"2023-03-17T11:22:16.265121Z\", \"duration\": \"0:23:43\", \"iteration\": \"34\", \"goal\": \"AUC_weighted_max\", \"run_name\": \"StandardScalerWrapper, XGBoostClassifier\", \"run_properties\": \"copy=True, with_mean=False, with_std=False\", \"primary_metric\": 0.96615914, \"best_metric\": 0.96618804}, {\"run_id\": \"AutoML_83f6e4d1-0ff5-4e32-8313-e42fcb442cf5_35\", \"run_number\": 1679052604, \"metric\": null, \"status\": \"Completed\", \"run_type\": \"azureml.scriptrun\", \"training_percent\": \"100\", \"start_time\": \"2023-03-17T11:46:03.507417Z\", \"end_time\": \"2023-03-17T11:47:25.722935Z\", \"created_time\": \"2023-03-17T11:30:04.815661Z\", \"created_time_dt\": \"2023-03-17T11:30:04.815661Z\", \"duration\": \"0:17:20\", \"iteration\": \"35\", \"goal\": \"AUC_weighted_max\", \"run_name\": \"SparseNormalizer, XGBoostClassifier\", \"run_properties\": \"copy=True, norm='l2'\", \"primary_metric\": 0.96585756, \"best_metric\": 0.96618804}, {\"run_id\": \"AutoML_83f6e4d1-0ff5-4e32-8313-e42fcb442cf5_36\", \"run_number\": 1679053439, \"metric\": null, \"status\": \"Canceled\", \"run_type\": \"azureml.scriptrun\", \"training_percent\": \"100\", \"start_time\": \"2023-03-17T11:47:26.763275Z\", \"end_time\": \"2023-03-17T11:47:27.672505Z\", \"created_time\": \"2023-03-17T11:43:59.946124Z\", \"created_time_dt\": \"2023-03-17T11:43:59.946124Z\", \"duration\": \"0:03:27\", \"iteration\": \"36\", \"goal\": null, \"run_name\": \"Canceled\", \"run_properties\": null}, {\"run_id\": \"AutoML_83f6e4d1-0ff5-4e32-8313-e42fcb442cf5_37\", \"run_number\": 1679053496, \"metric\": null, \"status\": \"Canceled\", \"run_type\": \"azureml.scriptrun\", \"training_percent\": \"100\", \"start_time\": \"2023-03-17T11:47:26.767496Z\", \"end_time\": \"2023-03-17T11:47:27.009629Z\", \"created_time\": \"2023-03-17T11:44:56.394523Z\", \"created_time_dt\": \"2023-03-17T11:44:56.394523Z\", \"duration\": \"0:02:30\", \"iteration\": \"37\", \"goal\": null, \"run_name\": \"Canceled\", \"run_properties\": null}, {\"run_id\": \"AutoML_83f6e4d1-0ff5-4e32-8313-e42fcb442cf5_38\", \"run_number\": 1679053561, \"metric\": null, \"status\": \"Canceled\", \"run_type\": \"azureml.scriptrun\", \"training_percent\": \"100\", \"start_time\": \"2023-03-17T11:47:26.742375Z\", \"end_time\": \"2023-03-17T11:47:27.010129Z\", \"created_time\": \"2023-03-17T11:46:01.457Z\", \"created_time_dt\": \"2023-03-17T11:46:01.457Z\", \"duration\": \"0:01:25\", \"iteration\": \"38\", \"goal\": null, \"run_name\": \"Canceled\", \"run_properties\": null}, {\"run_id\": \"AutoML_83f6e4d1-0ff5-4e32-8313-e42fcb442cf5_39\", \"run_number\": 1679053648, \"metric\": null, \"status\": \"Completed\", \"run_type\": \"azureml.scriptrun\", \"training_percent\": \"100\", \"start_time\": \"2023-03-17T11:56:32.759283Z\", \"end_time\": \"2023-03-17T12:07:23.351421Z\", \"created_time\": \"2023-03-17T11:47:28.400644Z\", \"created_time_dt\": \"2023-03-17T11:47:28.400644Z\", \"duration\": \"0:19:54\", \"iteration\": \"39\", \"goal\": \"AUC_weighted_max\", \"run_name\": \"VotingEnsemble\", \"run_properties\": \"classification_labels=numpy.array([0, 1]\", \"primary_metric\": 0.96646015, \"best_metric\": 0.96646015}], \"children_metrics\": {\"categories\": [0], \"series\": {\"AUC_micro\": [{\"categories\": [\"0\", \"2\", \"5\", \"7\", \"11\", \"13\", \"17\", \"20\", \"23\", \"24\", \"25\", \"26\", \"27\", \"28\", \"29\", \"30\", \"31\", \"32\", \"33\", \"34\", \"35\", \"39\"], \"mode\": \"markers\", \"name\": \"AUC_micro\", \"stepped\": false, \"type\": \"scatter\", \"data\": [0.9920919813473036, 0.9876687725723551, 0.9916716295544116, 0.9917630194852866, 0.9491208502311022, 0.9851806648790594, 0.9624082870373073, 0.9912783356333902, 0.9296458013983484, 0.9917592889582779, 0.9912903035296506, 0.9873848507114663, 0.9919840702008377, 0.9873105647223731, 0.9920794154098423, 0.9915885890122818, 0.9911615603495716, 0.9919353084925424, 0.9906375986989868, 0.9920846185816572, 0.9920206936487282, 0.9921369897457044]}, {\"categories\": [\"0\", \"2\", \"5\", \"7\", \"11\", \"13\", \"17\", \"20\", \"23\", \"24\", \"25\", \"26\", \"27\", \"28\", \"29\", \"30\", \"31\", \"32\", \"33\", \"34\", \"35\", \"39\"], \"mode\": \"lines\", \"name\": \"AUC_micro_max\", \"stepped\": true, \"type\": \"scatter\", \"data\": [0.9920919813473036, 0.9920919813473036, 0.9920919813473036, 0.9920919813473036, 0.9920919813473036, 0.9920919813473036, 0.9920919813473036, 0.9920919813473036, 0.9920919813473036, 0.9920919813473036, 0.9920919813473036, 0.9920919813473036, 0.9920919813473036, 0.9920919813473036, 0.9920919813473036, 0.9920919813473036, 0.9920919813473036, 0.9920919813473036, 0.9920919813473036, 0.9920919813473036, 0.9920919813473036, 0.9921369897457044]}], \"f1_score_macro\": [{\"categories\": [\"0\", \"2\", \"5\", \"7\", \"11\", \"13\", \"17\", \"20\", \"23\", \"24\", \"25\", \"26\", \"27\", \"28\", \"29\", \"30\", \"31\", \"32\", \"33\", \"34\", \"35\", \"39\"], \"mode\": \"markers\", \"name\": \"f1_score_macro\", \"stepped\": false, \"type\": \"scatter\", \"data\": [0.7840423164103364, 0.5732876057444681, 0.7790181466025236, 0.7735452719037701, 0.7218867192625275, 0.4809568847379318, 0.7023703650070088, 0.7792714925865417, 0.7015741750527459, 0.7782304410078783, 0.7799849846406262, 0.702372973557595, 0.7833802763239494, 0.6955870544337439, 0.7838806906108107, 0.7584066328076114, 0.7762466799243729, 0.7824817920085897, 0.7835054235045172, 0.7850747420935451, 0.782744986156219, 0.7826604957016889]}, {\"categories\": [\"0\", \"2\", \"5\", \"7\", \"11\", \"13\", \"17\", \"20\", \"23\", \"24\", \"25\", \"26\", \"27\", \"28\", \"29\", \"30\", \"31\", \"32\", \"33\", \"34\", \"35\", \"39\"], \"mode\": \"lines\", \"name\": \"f1_score_macro_max\", \"stepped\": true, \"type\": \"scatter\", \"data\": [0.7840423164103364, 0.7840423164103364, 0.7840423164103364, 0.7840423164103364, 0.7840423164103364, 0.7840423164103364, 0.7840423164103364, 0.7840423164103364, 0.7840423164103364, 0.7840423164103364, 0.7840423164103364, 0.7840423164103364, 0.7840423164103364, 0.7840423164103364, 0.7840423164103364, 0.7840423164103364, 0.7840423164103364, 0.7840423164103364, 0.7840423164103364, 0.7850747420935451, 0.7850747420935451, 0.7850747420935451]}], \"recall_score_weighted\": [{\"categories\": [\"0\", \"2\", \"5\", \"7\", \"11\", \"13\", \"17\", \"20\", \"23\", \"24\", \"25\", \"26\", \"27\", \"28\", \"29\", \"30\", \"31\", \"32\", \"33\", \"34\", \"35\", \"39\"], \"mode\": \"markers\", \"name\": \"recall_score_weighted\", \"stepped\": false, \"type\": \"scatter\", \"data\": [0.9497565743985885, 0.9305676751782181, 0.9493789190091314, 0.9486035810504733, 0.870918150823737, 0.9266223207686622, 0.8539904155639797, 0.9478740195026584, 0.8563850940562192, 0.9494914526857879, 0.9481839639510765, 0.9331569034165415, 0.9495238776434686, 0.9326628996495243, 0.9496354576448991, 0.9484939083994944, 0.946351953842119, 0.9491128436211048, 0.9489373673795388, 0.9497098443125194, 0.9493960851631976, 0.9498767374770521]}, {\"categories\": [\"0\", \"2\", \"5\", \"7\", \"11\", \"13\", \"17\", \"20\", \"23\", \"24\", \"25\", \"26\", \"27\", \"28\", \"29\", \"30\", \"31\", \"32\", \"33\", \"34\", \"35\", \"39\"], \"mode\": \"lines\", \"name\": \"recall_score_weighted_max\", \"stepped\": true, \"type\": \"scatter\", \"data\": [0.9497565743985885, 0.9497565743985885, 0.9497565743985885, 0.9497565743985885, 0.9497565743985885, 0.9497565743985885, 0.9497565743985885, 0.9497565743985885, 0.9497565743985885, 0.9497565743985885, 0.9497565743985885, 0.9497565743985885, 0.9497565743985885, 0.9497565743985885, 0.9497565743985885, 0.9497565743985885, 0.9497565743985885, 0.9497565743985885, 0.9497565743985885, 0.9497565743985885, 0.9497565743985885, 0.9498767374770521]}], \"recall_score_macro\": [{\"categories\": [\"0\", \"2\", \"5\", \"7\", \"11\", \"13\", \"17\", \"20\", \"23\", \"24\", \"25\", \"26\", \"27\", \"28\", \"29\", \"30\", \"31\", \"32\", \"33\", \"34\", \"35\", \"39\"], \"mode\": \"markers\", \"name\": \"recall_score_macro\", \"stepped\": false, \"type\": \"scatter\", \"data\": [0.7439485022430897, 0.5521955308635494, 0.7361540363561038, 0.7295270995975144, 0.9056627997319806, 0.5, 0.9008132951107374, 0.7432973078069239, 0.8890139339127802, 0.7341967235562382, 0.7432811576305317, 0.6684875472438855, 0.7437412406895386, 0.6606504880344771, 0.7441847017987788, 0.7046619286408397, 0.7441783725029946, 0.7438957846022746, 0.746748606852953, 0.7461699220739099, 0.7430950936153101, 0.7407434260738689]}, {\"categories\": [\"0\", \"2\", \"5\", \"7\", \"11\", \"13\", \"17\", \"20\", \"23\", \"24\", \"25\", \"26\", \"27\", \"28\", \"29\", \"30\", \"31\", \"32\", \"33\", \"34\", \"35\", \"39\"], \"mode\": \"lines\", \"name\": \"recall_score_macro_max\", \"stepped\": true, \"type\": \"scatter\", \"data\": [0.7439485022430897, 0.7439485022430897, 0.7439485022430897, 0.7439485022430897, 0.9056627997319806, 0.9056627997319806, 0.9056627997319806, 0.9056627997319806, 0.9056627997319806, 0.9056627997319806, 0.9056627997319806, 0.9056627997319806, 0.9056627997319806, 0.9056627997319806, 0.9056627997319806, 0.9056627997319806, 0.9056627997319806, 0.9056627997319806, 0.9056627997319806, 0.9056627997319806, 0.9056627997319806, 0.9056627997319806]}], \"accuracy\": [{\"categories\": [\"0\", \"2\", \"5\", \"7\", \"11\", \"13\", \"17\", \"20\", \"23\", \"24\", \"25\", \"26\", \"27\", \"28\", \"29\", \"30\", \"31\", \"32\", \"33\", \"34\", \"35\", \"39\"], \"mode\": \"markers\", \"name\": \"accuracy\", \"stepped\": false, \"type\": \"scatter\", \"data\": [0.9497565743985885, 0.9305676751782181, 0.9493789190091314, 0.9486035810504733, 0.870918150823737, 0.9266223207686622, 0.8539904155639797, 0.9478740195026584, 0.8563850940562192, 0.9494914526857879, 0.9481839639510765, 0.9331569034165415, 0.9495238776434686, 0.9326628996495243, 0.9496354576448991, 0.9484939083994944, 0.946351953842119, 0.9491128436211048, 0.9489373673795388, 0.9497098443125194, 0.9493960851631976, 0.9498767374770521]}, {\"categories\": [\"0\", \"2\", \"5\", \"7\", \"11\", \"13\", \"17\", \"20\", \"23\", \"24\", \"25\", \"26\", \"27\", \"28\", \"29\", \"30\", \"31\", \"32\", \"33\", \"34\", \"35\", \"39\"], \"mode\": \"lines\", \"name\": \"accuracy_max\", \"stepped\": true, \"type\": \"scatter\", \"data\": [0.9497565743985885, 0.9497565743985885, 0.9497565743985885, 0.9497565743985885, 0.9497565743985885, 0.9497565743985885, 0.9497565743985885, 0.9497565743985885, 0.9497565743985885, 0.9497565743985885, 0.9497565743985885, 0.9497565743985885, 0.9497565743985885, 0.9497565743985885, 0.9497565743985885, 0.9497565743985885, 0.9497565743985885, 0.9497565743985885, 0.9497565743985885, 0.9497565743985885, 0.9497565743985885, 0.9498767374770521]}], \"precision_score_macro\": [{\"categories\": [\"0\", \"2\", \"5\", \"7\", \"11\", \"13\", \"17\", \"20\", \"23\", \"24\", \"25\", \"26\", \"27\", \"28\", \"29\", \"30\", \"31\", \"32\", \"33\", \"34\", \"35\", \"39\"], \"mode\": \"markers\", \"name\": \"precision_score_macro\", \"stepped\": false, \"type\": \"scatter\", \"data\": [0.8449723373702082, 0.8064524590045655, 0.8472167210611451, 0.8456056568976713, 0.6759957129211864, 0.4633111603843311, 0.6626384727834904, 0.8316753556217354, 0.661662787714569, 0.8495135334322769, 0.8338640771580783, 0.7608024644384604, 0.8433428271111746, 0.7589566476993609, 0.843915510838715, 0.8658739418578977, 0.8210239209409688, 0.8401943474123684, 0.837269520547223, 0.8432151186525335, 0.8427944466982401, 0.8480073992730707]}, {\"categories\": [\"0\", \"2\", \"5\", \"7\", \"11\", \"13\", \"17\", \"20\", \"23\", \"24\", \"25\", \"26\", \"27\", \"28\", \"29\", \"30\", \"31\", \"32\", \"33\", \"34\", \"35\", \"39\"], \"mode\": \"lines\", \"name\": \"precision_score_macro_max\", \"stepped\": true, \"type\": \"scatter\", \"data\": [0.8449723373702082, 0.8449723373702082, 0.8472167210611451, 0.8472167210611451, 0.8472167210611451, 0.8472167210611451, 0.8472167210611451, 0.8472167210611451, 0.8472167210611451, 0.8495135334322769, 0.8495135334322769, 0.8495135334322769, 0.8495135334322769, 0.8495135334322769, 0.8495135334322769, 0.8658739418578977, 0.8658739418578977, 0.8658739418578977, 0.8658739418578977, 0.8658739418578977, 0.8658739418578977, 0.8658739418578977]}], \"AUC_macro\": [{\"categories\": [\"0\", \"2\", \"5\", \"7\", \"11\", \"13\", \"17\", \"20\", \"23\", \"24\", \"25\", \"26\", \"27\", \"28\", \"29\", \"30\", \"31\", \"32\", \"33\", \"34\", \"35\", \"39\"], \"mode\": \"markers\", \"name\": \"AUC_macro\", \"stepped\": false, \"type\": \"scatter\", \"data\": [0.9661880398384287, 0.9482491826584646, 0.9634163567086805, 0.9648536209018143, 0.9550990243648072, 0.930602549416431, 0.9592793121237672, 0.9618406790580879, 0.9446396428095696, 0.9640734576881478, 0.9622518905371061, 0.9441337219367525, 0.9656531645138982, 0.943918139218788, 0.9661382354031618, 0.964633123376848, 0.962182328687179, 0.9654510388635112, 0.9563689079308775, 0.9661591487455997, 0.9658575654540749, 0.9664601451756428]}, {\"categories\": [\"0\", \"2\", \"5\", \"7\", \"11\", \"13\", \"17\", \"20\", \"23\", \"24\", \"25\", \"26\", \"27\", \"28\", \"29\", \"30\", \"31\", \"32\", \"33\", \"34\", \"35\", \"39\"], \"mode\": \"lines\", \"name\": \"AUC_macro_max\", \"stepped\": true, \"type\": \"scatter\", \"data\": [0.9661880398384287, 0.9661880398384287, 0.9661880398384287, 0.9661880398384287, 0.9661880398384287, 0.9661880398384287, 0.9661880398384287, 0.9661880398384287, 0.9661880398384287, 0.9661880398384287, 0.9661880398384287, 0.9661880398384287, 0.9661880398384287, 0.9661880398384287, 0.9661880398384287, 0.9661880398384287, 0.9661880398384287, 0.9661880398384287, 0.9661880398384287, 0.9661880398384287, 0.9661880398384287, 0.9664601451756428]}], \"AUC_weighted\": [{\"categories\": [\"0\", \"2\", \"5\", \"7\", \"11\", \"13\", \"17\", \"20\", \"23\", \"24\", \"25\", \"26\", \"27\", \"28\", \"29\", \"30\", \"31\", \"32\", \"33\", \"34\", \"35\", \"39\"], \"mode\": \"markers\", \"name\": \"AUC_weighted\", \"stepped\": false, \"type\": \"scatter\", \"data\": [0.9661880398384287, 0.9482491826584646, 0.9634163569243205, 0.96485362322914, 0.9550990243648072, 0.9306025494164311, 0.9592793121237672, 0.9618406790580877, 0.9446396428095696, 0.9640734565294831, 0.9622518905371061, 0.9441337219367526, 0.9656531645138982, 0.943918139218788, 0.9661382442981896, 0.9646331252812125, 0.9621823289918271, 0.9654510396444606, 0.956368907727243, 0.9661591442410494, 0.9658575617686508, 0.9664601486671285]}, {\"categories\": [\"0\", \"2\", \"5\", \"7\", \"11\", \"13\", \"17\", \"20\", \"23\", \"24\", \"25\", \"26\", \"27\", \"28\", \"29\", \"30\", \"31\", \"32\", \"33\", \"34\", \"35\", \"39\"], \"mode\": \"lines\", \"name\": \"AUC_weighted_max\", \"stepped\": true, \"type\": \"scatter\", \"data\": [0.9661880398384287, 0.9661880398384287, 0.9661880398384287, 0.9661880398384287, 0.9661880398384287, 0.9661880398384287, 0.9661880398384287, 0.9661880398384287, 0.9661880398384287, 0.9661880398384287, 0.9661880398384287, 0.9661880398384287, 0.9661880398384287, 0.9661880398384287, 0.9661880398384287, 0.9661880398384287, 0.9661880398384287, 0.9661880398384287, 0.9661880398384287, 0.9661880398384287, 0.9661880398384287, 0.9664601486671285]}], \"matthews_correlation\": [{\"categories\": [\"0\", \"2\", \"5\", \"7\", \"11\", \"13\", \"17\", \"20\", \"23\", \"24\", \"25\", \"26\", \"27\", \"28\", \"29\", \"30\", \"31\", \"32\", \"33\", \"34\", \"35\", \"39\"], \"mode\": \"markers\", \"name\": \"matthews_correlation\", \"stepped\": false, \"type\": \"scatter\", \"data\": [0.5801841552050849, 0.24512951814161835, 0.5726980124512833, 0.5632962352125545, 0.5343956683384588, 0.0, 0.5106365782422979, 0.5681380698905077, 0.501492578424754, 0.5722054819088145, 0.569990663191768, 0.4192442266659177, 0.5785702219931083, 0.40792876631352964, 0.5795785470690792, 0.5472810127786811, 0.5599533095956558, 0.5760932113682861, 0.5769257566649817, 0.5813354591797295, 0.5773444155028858, 0.5788958512204645]}, {\"categories\": [\"0\", \"2\", \"5\", \"7\", \"11\", \"13\", \"17\", \"20\", \"23\", \"24\", \"25\", \"26\", \"27\", \"28\", \"29\", \"30\", \"31\", \"32\", \"33\", \"34\", \"35\", \"39\"], \"mode\": \"lines\", \"name\": \"matthews_correlation_max\", \"stepped\": true, \"type\": \"scatter\", \"data\": [0.5801841552050849, 0.5801841552050849, 0.5801841552050849, 0.5801841552050849, 0.5801841552050849, 0.5801841552050849, 0.5801841552050849, 0.5801841552050849, 0.5801841552050849, 0.5801841552050849, 0.5801841552050849, 0.5801841552050849, 0.5801841552050849, 0.5801841552050849, 0.5801841552050849, 0.5801841552050849, 0.5801841552050849, 0.5801841552050849, 0.5801841552050849, 0.5813354591797295, 0.5813354591797295, 0.5813354591797295]}], \"log_loss\": [{\"categories\": [\"0\", \"2\", \"5\", \"7\", \"11\", \"13\", \"17\", \"20\", \"23\", \"24\", \"25\", \"26\", \"27\", \"28\", \"29\", \"30\", \"31\", \"32\", \"33\", \"34\", \"35\", \"39\"], \"mode\": \"markers\", \"name\": \"log_loss\", \"stepped\": false, \"type\": \"scatter\", \"data\": [0.11312363356640964, 0.14083694535930788, 0.1296599571243333, 0.13193608508057694, 0.31897925617390827, 0.2227613339035324, 0.2749318540005133, 0.12117672214324875, 0.39316915565478977, 0.13005590504207779, 0.12026765518294358, 0.14334210440728393, 0.11410834290428305, 0.14404810679873178, 0.1132073855306555, 0.5245264142985983, 0.12094318611352446, 0.11423691652056549, 0.6722731751549039, 0.11322501128966676, 0.11363504991136908, 0.1134863047373615]}, {\"categories\": [\"0\", \"2\", \"5\", \"7\", \"11\", \"13\", \"17\", \"20\", \"23\", \"24\", \"25\", \"26\", \"27\", \"28\", \"29\", \"30\", \"31\", \"32\", \"33\", \"34\", \"35\", \"39\"], \"mode\": \"lines\", \"name\": \"log_loss_min\", \"stepped\": true, \"type\": \"scatter\", \"data\": [0.11312363356640964, 0.11312363356640964, 0.11312363356640964, 0.11312363356640964, 0.11312363356640964, 0.11312363356640964, 0.11312363356640964, 0.11312363356640964, 0.11312363356640964, 0.11312363356640964, 0.11312363356640964, 0.11312363356640964, 0.11312363356640964, 0.11312363356640964, 0.11312363356640964, 0.11312363356640964, 0.11312363356640964, 0.11312363356640964, 0.11312363356640964, 0.11312363356640964, 0.11312363356640964, 0.11312363356640964]}], \"f1_score_weighted\": [{\"categories\": [\"0\", \"2\", \"5\", \"7\", \"11\", \"13\", \"17\", \"20\", \"23\", \"24\", \"25\", \"26\", \"27\", \"28\", \"29\", \"30\", \"31\", \"32\", \"33\", \"34\", \"35\", \"39\"], \"mode\": \"markers\", \"name\": \"f1_score_weighted\", \"stepped\": false, \"type\": \"scatter\", \"data\": [0.9454558082390677, 0.9064096685122377, 0.9445730059112906, 0.9434316604021237, 0.8955959024464649, 0.8913308720614608, 0.8836259437351918, 0.9438742223566848, 0.8849594284391414, 0.9445168250093459, 0.9441244980580447, 0.9259944315603962, 0.9452505308524374, 0.9248052573325576, 0.9453739080340634, 0.9412559551572365, 0.9427099079088231, 0.9449253207665981, 0.9449826664501338, 0.9455770585096225, 0.945099906477617, 0.9453218689158546]}, {\"categories\": [\"0\", \"2\", \"5\", \"7\", \"11\", \"13\", \"17\", \"20\", \"23\", \"24\", \"25\", \"26\", \"27\", \"28\", \"29\", \"30\", \"31\", \"32\", \"33\", \"34\", \"35\", \"39\"], \"mode\": \"lines\", \"name\": \"f1_score_weighted_max\", \"stepped\": true, \"type\": \"scatter\", \"data\": [0.9454558082390677, 0.9454558082390677, 0.9454558082390677, 0.9454558082390677, 0.9454558082390677, 0.9454558082390677, 0.9454558082390677, 0.9454558082390677, 0.9454558082390677, 0.9454558082390677, 0.9454558082390677, 0.9454558082390677, 0.9454558082390677, 0.9454558082390677, 0.9454558082390677, 0.9454558082390677, 0.9454558082390677, 0.9454558082390677, 0.9454558082390677, 0.9455770585096225, 0.9455770585096225, 0.9455770585096225]}], \"norm_macro_recall\": [{\"categories\": [\"0\", \"2\", \"5\", \"7\", \"11\", \"13\", \"17\", \"20\", \"23\", \"24\", \"25\", \"26\", \"27\", \"28\", \"29\", \"30\", \"31\", \"32\", \"33\", \"34\", \"35\", \"39\"], \"mode\": \"markers\", \"name\": \"norm_macro_recall\", \"stepped\": false, \"type\": \"scatter\", \"data\": [0.48789700448617945, 0.10439106172709882, 0.4723080727122076, 0.45905419919502893, 0.8113255994639612, 0.0, 0.8016265902214749, 0.48659461561384765, 0.7780278678255602, 0.4683934471124765, 0.48656231526106314, 0.3369750944877709, 0.4874824813790774, 0.32130097606895425, 0.48836940359755765, 0.40932385728167947, 0.4883567450059893, 0.4877915692045491, 0.49349721370590616, 0.4923398441478198, 0.48619018723062046, 0.48148685214773784]}, {\"categories\": [\"0\", \"2\", \"5\", \"7\", \"11\", \"13\", \"17\", \"20\", \"23\", \"24\", \"25\", \"26\", \"27\", \"28\", \"29\", \"30\", \"31\", \"32\", \"33\", \"34\", \"35\", \"39\"], \"mode\": \"lines\", \"name\": \"norm_macro_recall_max\", \"stepped\": true, \"type\": \"scatter\", \"data\": [0.48789700448617945, 0.48789700448617945, 0.48789700448617945, 0.48789700448617945, 0.8113255994639612, 0.8113255994639612, 0.8113255994639612, 0.8113255994639612, 0.8113255994639612, 0.8113255994639612, 0.8113255994639612, 0.8113255994639612, 0.8113255994639612, 0.8113255994639612, 0.8113255994639612, 0.8113255994639612, 0.8113255994639612, 0.8113255994639612, 0.8113255994639612, 0.8113255994639612, 0.8113255994639612, 0.8113255994639612]}], \"precision_score_weighted\": [{\"categories\": [\"0\", \"2\", \"5\", \"7\", \"11\", \"13\", \"17\", \"20\", \"23\", \"24\", \"25\", \"26\", \"27\", \"28\", \"29\", \"30\", \"31\", \"32\", \"33\", \"34\", \"35\", \"39\"], \"mode\": \"markers\", \"name\": \"precision_score_weighted\", \"stepped\": false, \"type\": \"scatter\", \"data\": [0.9444577066056374, 0.9151324249067382, 0.9437735752758605, 0.9426924295110855, 0.9482831576986333, 0.8586291157643324, 0.9469667919489853, 0.9424885305818226, 0.9446178750009301, 0.94384831460478, 0.9427959300468092, 0.9227809818269761, 0.944199718580904, 0.9215176544404597, 0.9443373132108124, 0.9424355830082188, 0.9410977548883152, 0.9437726616663146, 0.9437294151596364, 0.944495791800447, 0.9440381417663408, 0.9444751196235109]}, {\"categories\": [\"0\", \"2\", \"5\", \"7\", \"11\", \"13\", \"17\", \"20\", \"23\", \"24\", \"25\", \"26\", \"27\", \"28\", \"29\", \"30\", \"31\", \"32\", \"33\", \"34\", \"35\", \"39\"], \"mode\": \"lines\", \"name\": \"precision_score_weighted_max\", \"stepped\": true, \"type\": \"scatter\", \"data\": [0.9444577066056374, 0.9444577066056374, 0.9444577066056374, 0.9444577066056374, 0.9482831576986333, 0.9482831576986333, 0.9482831576986333, 0.9482831576986333, 0.9482831576986333, 0.9482831576986333, 0.9482831576986333, 0.9482831576986333, 0.9482831576986333, 0.9482831576986333, 0.9482831576986333, 0.9482831576986333, 0.9482831576986333, 0.9482831576986333, 0.9482831576986333, 0.9482831576986333, 0.9482831576986333, 0.9482831576986333]}], \"average_precision_score_micro\": [{\"categories\": [\"0\", \"2\", \"5\", \"7\", \"11\", \"13\", \"17\", \"20\", \"23\", \"24\", \"25\", \"26\", \"27\", \"28\", \"29\", \"30\", \"31\", \"32\", \"33\", \"34\", \"35\", \"39\"], \"mode\": \"markers\", \"name\": \"average_precision_score_micro\", \"stepped\": false, \"type\": \"scatter\", \"data\": [0.9922954232102722, 0.9879411484573635, 0.991582132827287, 0.9919792927760716, 0.9510303726364248, 0.9855596348226504, 0.9641706837701709, 0.991442495630316, 0.9306092217819874, 0.9917893713229912, 0.9915052871801247, 0.9875960709335868, 0.9921805381201727, 0.9875706769894107, 0.9922843405970522, 0.9917905890023211, 0.991398335736244, 0.9921482529625928, 0.9898424823241259, 0.9922898323489453, 0.9922306340621961, 0.9923452379637281]}, {\"categories\": [\"0\", \"2\", \"5\", \"7\", \"11\", \"13\", \"17\", \"20\", \"23\", \"24\", \"25\", \"26\", \"27\", \"28\", \"29\", \"30\", \"31\", \"32\", \"33\", \"34\", \"35\", \"39\"], \"mode\": \"lines\", \"name\": \"average_precision_score_micro_max\", \"stepped\": true, \"type\": \"scatter\", \"data\": [0.9922954232102722, 0.9922954232102722, 0.9922954232102722, 0.9922954232102722, 0.9922954232102722, 0.9922954232102722, 0.9922954232102722, 0.9922954232102722, 0.9922954232102722, 0.9922954232102722, 0.9922954232102722, 0.9922954232102722, 0.9922954232102722, 0.9922954232102722, 0.9922954232102722, 0.9922954232102722, 0.9922954232102722, 0.9922954232102722, 0.9922954232102722, 0.9922954232102722, 0.9922954232102722, 0.9923452379637281]}], \"f1_score_micro\": [{\"categories\": [\"0\", \"2\", \"5\", \"7\", \"11\", \"13\", \"17\", \"20\", \"23\", \"24\", \"25\", \"26\", \"27\", \"28\", \"29\", \"30\", \"31\", \"32\", \"33\", \"34\", \"35\", \"39\"], \"mode\": \"markers\", \"name\": \"f1_score_micro\", \"stepped\": false, \"type\": \"scatter\", \"data\": [0.9497565743985885, 0.9305676751782181, 0.9493789190091314, 0.9486035810504733, 0.870918150823737, 0.9266223207686622, 0.8539904155639797, 0.9478740195026584, 0.8563850940562192, 0.9494914526857879, 0.9481839639510765, 0.9331569034165415, 0.9495238776434686, 0.9326628996495243, 0.9496354576448991, 0.9484939083994944, 0.946351953842119, 0.9491128436211048, 0.9489373673795388, 0.9497098443125194, 0.9493960851631976, 0.9498767374770521]}, {\"categories\": [\"0\", \"2\", \"5\", \"7\", \"11\", \"13\", \"17\", \"20\", \"23\", \"24\", \"25\", \"26\", \"27\", \"28\", \"29\", \"30\", \"31\", \"32\", \"33\", \"34\", \"35\", \"39\"], \"mode\": \"lines\", \"name\": \"f1_score_micro_max\", \"stepped\": true, \"type\": \"scatter\", \"data\": [0.9497565743985885, 0.9497565743985885, 0.9497565743985885, 0.9497565743985885, 0.9497565743985885, 0.9497565743985885, 0.9497565743985885, 0.9497565743985885, 0.9497565743985885, 0.9497565743985885, 0.9497565743985885, 0.9497565743985885, 0.9497565743985885, 0.9497565743985885, 0.9497565743985885, 0.9497565743985885, 0.9497565743985885, 0.9497565743985885, 0.9497565743985885, 0.9497565743985885, 0.9497565743985885, 0.9498767374770521]}], \"balanced_accuracy\": [{\"categories\": [\"0\", \"2\", \"5\", \"7\", \"11\", \"13\", \"17\", \"20\", \"23\", \"24\", \"25\", \"26\", \"27\", \"28\", \"29\", \"30\", \"31\", \"32\", \"33\", \"34\", \"35\", \"39\"], \"mode\": \"markers\", \"name\": \"balanced_accuracy\", \"stepped\": false, \"type\": \"scatter\", \"data\": [0.7439485022430897, 0.5521955308635494, 0.7361540363561038, 0.7295270995975144, 0.9056627997319806, 0.5, 0.9008132951107374, 0.7432973078069239, 0.8890139339127802, 0.7341967235562382, 0.7432811576305317, 0.6684875472438855, 0.7437412406895386, 0.6606504880344771, 0.7441847017987788, 0.7046619286408397, 0.7441783725029946, 0.7438957846022746, 0.746748606852953, 0.7461699220739099, 0.7430950936153101, 0.7407434260738689]}, {\"categories\": [\"0\", \"2\", \"5\", \"7\", \"11\", \"13\", \"17\", \"20\", \"23\", \"24\", \"25\", \"26\", \"27\", \"28\", \"29\", \"30\", \"31\", \"32\", \"33\", \"34\", \"35\", \"39\"], \"mode\": \"lines\", \"name\": \"balanced_accuracy_max\", \"stepped\": true, \"type\": \"scatter\", \"data\": [0.7439485022430897, 0.7439485022430897, 0.7439485022430897, 0.7439485022430897, 0.9056627997319806, 0.9056627997319806, 0.9056627997319806, 0.9056627997319806, 0.9056627997319806, 0.9056627997319806, 0.9056627997319806, 0.9056627997319806, 0.9056627997319806, 0.9056627997319806, 0.9056627997319806, 0.9056627997319806, 0.9056627997319806, 0.9056627997319806, 0.9056627997319806, 0.9056627997319806, 0.9056627997319806, 0.9056627997319806]}], \"average_precision_score_weighted\": [{\"categories\": [\"0\", \"2\", \"5\", \"7\", \"11\", \"13\", \"17\", \"20\", \"23\", \"24\", \"25\", \"26\", \"27\", \"28\", \"29\", \"30\", \"31\", \"32\", \"33\", \"34\", \"35\", \"39\"], \"mode\": \"markers\", \"name\": \"average_precision_score_weighted\", \"stepped\": false, \"type\": \"scatter\", \"data\": [0.9760174700247473, 0.9616736220189689, 0.9751237507176224, 0.9751995352913778, 0.9700142241267461, 0.9574822741050499, 0.9711473949691417, 0.9740220388018934, 0.9608806485062645, 0.9752537456545985, 0.9741489626684204, 0.9601175262963659, 0.9757258434530723, 0.9596506885618923, 0.9759494225233648, 0.9752340063670059, 0.9732665635567574, 0.9755220436775255, 0.972610198882638, 0.9759833446260399, 0.9757699887598325, 0.9761380267141223]}, {\"categories\": [\"0\", \"2\", \"5\", \"7\", \"11\", \"13\", \"17\", \"20\", \"23\", \"24\", \"25\", \"26\", \"27\", \"28\", \"29\", \"30\", \"31\", \"32\", \"33\", \"34\", \"35\", \"39\"], \"mode\": \"lines\", \"name\": \"average_precision_score_weighted_max\", \"stepped\": true, \"type\": \"scatter\", \"data\": [0.9760174700247473, 0.9760174700247473, 0.9760174700247473, 0.9760174700247473, 0.9760174700247473, 0.9760174700247473, 0.9760174700247473, 0.9760174700247473, 0.9760174700247473, 0.9760174700247473, 0.9760174700247473, 0.9760174700247473, 0.9760174700247473, 0.9760174700247473, 0.9760174700247473, 0.9760174700247473, 0.9760174700247473, 0.9760174700247473, 0.9760174700247473, 0.9760174700247473, 0.9760174700247473, 0.9761380267141223]}], \"recall_score_micro\": [{\"categories\": [\"0\", \"2\", \"5\", \"7\", \"11\", \"13\", \"17\", \"20\", \"23\", \"24\", \"25\", \"26\", \"27\", \"28\", \"29\", \"30\", \"31\", \"32\", \"33\", \"34\", \"35\", \"39\"], \"mode\": \"markers\", \"name\": \"recall_score_micro\", \"stepped\": false, \"type\": \"scatter\", \"data\": [0.9497565743985885, 0.9305676751782181, 0.9493789190091314, 0.9486035810504733, 0.870918150823737, 0.9266223207686622, 0.8539904155639797, 0.9478740195026584, 0.8563850940562192, 0.9494914526857879, 0.9481839639510765, 0.9331569034165415, 0.9495238776434686, 0.9326628996495243, 0.9496354576448991, 0.9484939083994944, 0.946351953842119, 0.9491128436211048, 0.9489373673795388, 0.9497098443125194, 0.9493960851631976, 0.9498767374770521]}, {\"categories\": [\"0\", \"2\", \"5\", \"7\", \"11\", \"13\", \"17\", \"20\", \"23\", \"24\", \"25\", \"26\", \"27\", \"28\", \"29\", \"30\", \"31\", \"32\", \"33\", \"34\", \"35\", \"39\"], \"mode\": \"lines\", \"name\": \"recall_score_micro_max\", \"stepped\": true, \"type\": \"scatter\", \"data\": [0.9497565743985885, 0.9497565743985885, 0.9497565743985885, 0.9497565743985885, 0.9497565743985885, 0.9497565743985885, 0.9497565743985885, 0.9497565743985885, 0.9497565743985885, 0.9497565743985885, 0.9497565743985885, 0.9497565743985885, 0.9497565743985885, 0.9497565743985885, 0.9497565743985885, 0.9497565743985885, 0.9497565743985885, 0.9497565743985885, 0.9497565743985885, 0.9497565743985885, 0.9497565743985885, 0.9498767374770521]}], \"average_precision_score_macro\": [{\"categories\": [\"0\", \"2\", \"5\", \"7\", \"11\", \"13\", \"17\", \"20\", \"23\", \"24\", \"25\", \"26\", \"27\", \"28\", \"29\", \"30\", \"31\", \"32\", \"33\", \"34\", \"35\", \"39\"], \"mode\": \"markers\", \"name\": \"average_precision_score_macro\", \"stepped\": false, \"type\": \"scatter\", \"data\": [0.8530402881860143, 0.7644160185602463, 0.85020785599721, 0.8481234138229548, 0.8177517427000716, 0.7455374286664721, 0.8239418296733954, 0.8421503045582729, 0.7609453826568034, 0.8500554964492348, 0.8424135258262916, 0.756745753667813, 0.8513998472985124, 0.7532999526674482, 0.85258972067842, 0.8486263831645614, 0.8362917296752953, 0.8500009617268206, 0.8407422618557151, 0.8528124650329266, 0.8514894388690678, 0.853676780712171]}, {\"categories\": [\"0\", \"2\", \"5\", \"7\", \"11\", \"13\", \"17\", \"20\", \"23\", \"24\", \"25\", \"26\", \"27\", \"28\", \"29\", \"30\", \"31\", \"32\", \"33\", \"34\", \"35\", \"39\"], \"mode\": \"lines\", \"name\": \"average_precision_score_macro_max\", \"stepped\": true, \"type\": \"scatter\", \"data\": [0.8530402881860143, 0.8530402881860143, 0.8530402881860143, 0.8530402881860143, 0.8530402881860143, 0.8530402881860143, 0.8530402881860143, 0.8530402881860143, 0.8530402881860143, 0.8530402881860143, 0.8530402881860143, 0.8530402881860143, 0.8530402881860143, 0.8530402881860143, 0.8530402881860143, 0.8530402881860143, 0.8530402881860143, 0.8530402881860143, 0.8530402881860143, 0.8530402881860143, 0.8530402881860143, 0.853676780712171]}], \"precision_score_micro\": [{\"categories\": [\"0\", \"2\", \"5\", \"7\", \"11\", \"13\", \"17\", \"20\", \"23\", \"24\", \"25\", \"26\", \"27\", \"28\", \"29\", \"30\", \"31\", \"32\", \"33\", \"34\", \"35\", \"39\"], \"mode\": \"markers\", \"name\": \"precision_score_micro\", \"stepped\": false, \"type\": \"scatter\", \"data\": [0.9497565743985885, 0.9305676751782181, 0.9493789190091314, 0.9486035810504733, 0.870918150823737, 0.9266223207686622, 0.8539904155639797, 0.9478740195026584, 0.8563850940562192, 0.9494914526857879, 0.9481839639510765, 0.9331569034165415, 0.9495238776434686, 0.9326628996495243, 0.9496354576448991, 0.9484939083994944, 0.946351953842119, 0.9491128436211048, 0.9489373673795388, 0.9497098443125194, 0.9493960851631976, 0.9498767374770521]}, {\"categories\": [\"0\", \"2\", \"5\", \"7\", \"11\", \"13\", \"17\", \"20\", \"23\", \"24\", \"25\", \"26\", \"27\", \"28\", \"29\", \"30\", \"31\", \"32\", \"33\", \"34\", \"35\", \"39\"], \"mode\": \"lines\", \"name\": \"precision_score_micro_max\", \"stepped\": true, \"type\": \"scatter\", \"data\": [0.9497565743985885, 0.9497565743985885, 0.9497565743985885, 0.9497565743985885, 0.9497565743985885, 0.9497565743985885, 0.9497565743985885, 0.9497565743985885, 0.9497565743985885, 0.9497565743985885, 0.9497565743985885, 0.9497565743985885, 0.9497565743985885, 0.9497565743985885, 0.9497565743985885, 0.9497565743985885, 0.9497565743985885, 0.9497565743985885, 0.9497565743985885, 0.9497565743985885, 0.9497565743985885, 0.9498767374770521]}], \"weighted_accuracy\": [{\"categories\": [\"0\", \"2\", \"5\", \"7\", \"11\", \"13\", \"17\", \"20\", \"23\", \"24\", \"25\", \"26\", \"27\", \"28\", \"29\", \"30\", \"31\", \"32\", \"33\", \"34\", \"35\", \"39\"], \"mode\": \"markers\", \"name\": \"weighted_accuracy\", \"stepped\": false, \"type\": \"scatter\", \"data\": [0.9821486110250598, 0.9901381018226317, 0.9829360044605888, 0.9830828997168428, 0.8654490695809764, 0.9937679990568031, 0.8466206806190694, 0.9800712049056002, 0.8512563205402164, 0.9833758707777888, 0.9804327856394558, 0.9748119741002949, 0.9819113093378459, 0.9754744874482574, 0.9819715645190562, 0.986870795640745, 0.9781713151546757, 0.9814101872117446, 0.9807568188080643, 0.9817444119507162, 0.9818646584133831, 0.982791691721488]}, {\"categories\": [\"0\", \"2\", \"5\", \"7\", \"11\", \"13\", \"17\", \"20\", \"23\", \"24\", \"25\", \"26\", \"27\", \"28\", \"29\", \"30\", \"31\", \"32\", \"33\", \"34\", \"35\", \"39\"], \"mode\": \"lines\", \"name\": \"weighted_accuracy_max\", \"stepped\": true, \"type\": \"scatter\", \"data\": [0.9821486110250598, 0.9901381018226317, 0.9901381018226317, 0.9901381018226317, 0.9901381018226317, 0.9937679990568031, 0.9937679990568031, 0.9937679990568031, 0.9937679990568031, 0.9937679990568031, 0.9937679990568031, 0.9937679990568031, 0.9937679990568031, 0.9937679990568031, 0.9937679990568031, 0.9937679990568031, 0.9937679990568031, 0.9937679990568031, 0.9937679990568031, 0.9937679990568031, 0.9937679990568031, 0.9937679990568031]}]}, \"metricName\": null, \"primaryMetricName\": \"AUC_weighted\", \"showLegend\": false}, \"run_metrics\": [{\"name\": \"experiment_status\", \"run_id\": \"AutoML_83f6e4d1-0ff5-4e32-8313-e42fcb442cf5\", \"categories\": [0, 1, 2, 3, 4, 5, 6, 7, 8, 9, 10, 11, 12, 13, 14], \"series\": [{\"data\": [\"DatasetEvaluation\", \"FeaturesGeneration\", \"DatasetFeaturization\", \"DatasetFeaturizationCompleted\", \"DatasetBalancing\", \"DatasetCrossValidationSplit\", \"ModelSelection\", \"BestRunExplainModel\", \"ModelExplanationDataSetSetup\", \"PickSurrogateModel\", \"EngineeredFeatureExplanations\", \"EngineeredFeatureExplanations\", \"RawFeaturesExplanations\", \"RawFeaturesExplanations\", \"BestRunExplainModel\"]}]}, {\"name\": \"experiment_status_description\", \"run_id\": \"AutoML_83f6e4d1-0ff5-4e32-8313-e42fcb442cf5\", \"categories\": [0, 1, 2, 3, 4, 5, 6, 7, 8, 9, 10, 11, 12, 13, 14], \"series\": [{\"data\": [\"Gathering dataset statistics.\", \"Generating features for the dataset.\", \"Beginning to fit featurizers and featurize the dataset.\", \"Completed fit featurizers and featurizing the dataset.\", \"Performing class balancing sweeping\", \"Generating individually featurized CV splits.\", \"Beginning model selection.\", \"Best run model explanations started\", \"Model explanations data setup completed\", \"Choosing LightGBM as the surrogate model for explanations\", \"Computation of engineered features started\", \"Computation of engineered features completed\", \"Computation of raw features started\", \"Computation of raw features completed\", \"Best run model explanations completed\"]}]}], \"run_logs\": \"\\nRun is completed.\", \"graph\": {}, \"widget_settings\": {\"childWidgetDisplay\": \"popup\", \"send_telemetry\": false, \"log_level\": \"INFO\", \"sdk_version\": \"1.47.0\"}, \"loading\": false}"
          },
          "metadata": {}
        },
        {
          "output_type": "execute_result",
          "execution_count": 7,
          "data": {
            "text/plain": "{'runId': 'AutoML_83f6e4d1-0ff5-4e32-8313-e42fcb442cf5',\n 'target': 'IntensePurposeCluster',\n 'status': 'Completed',\n 'startTimeUtc': '2023-03-17T09:23:27.838929Z',\n 'endTimeUtc': '2023-03-17T12:19:59.932737Z',\n 'services': {},\n 'warnings': [{'source': 'JasmineService',\n   'message': 'No scores improved over last 10 iterations, so experiment stopped early. This early stopping behavior can be disabled by setting enable_early_stopping = False in AutoMLConfig for notebook/python SDK runs.'}],\n 'properties': {'num_iterations': '1000',\n  'training_type': 'TrainFull',\n  'acquisition_function': 'EI',\n  'primary_metric': 'AUC_weighted',\n  'train_split': '0',\n  'acquisition_parameter': '0',\n  'num_cross_validation': '3',\n  'target': 'IntensePurposeCluster',\n  'AMLSettingsJsonString': '{\"path\":null,\"name\":\"udacity_capstone_automl\",\"subscription_id\":\"d4b1a742-d22b-4598-975b-f7d380af08da\",\"resource_group\":\"vg-adl-sco-dev-rg\",\"workspace_name\":\"vg-adl-sco-dev-ml\",\"region\":\"westeurope\",\"compute_target\":\"IntensePurposeCluster\",\"spark_service\":null,\"azure_service\":\"remote\",\"many_models\":false,\"pipeline_fetch_max_batch_size\":1,\"enable_batch_run\":true,\"enable_parallel_run\":false,\"num_procs\":null,\"enable_run_restructure\":false,\"start_auxiliary_runs_before_parent_complete\":false,\"enable_code_generation\":true,\"iterations\":1000,\"primary_metric\":\"AUC_weighted\",\"task_type\":\"classification\",\"positive_label\":null,\"data_script\":null,\"test_size\":0.0,\"test_include_predictions_only\":false,\"validation_size\":0.0,\"n_cross_validations\":3,\"y_min\":null,\"y_max\":null,\"num_classes\":null,\"featurization\":\"auto\",\"_ignore_package_version_incompatibilities\":false,\"is_timeseries\":false,\"max_cores_per_iteration\":-1,\"max_concurrent_iterations\":4,\"iteration_timeout_minutes\":null,\"mem_in_mb\":null,\"enforce_time_on_windows\":false,\"experiment_timeout_minutes\":120,\"experiment_exit_score\":null,\"partition_column_names\":null,\"whitelist_models\":null,\"blacklist_algos\":[\"TensorFlowLinearClassifier\",\"TensorFlowDNN\"],\"supported_models\":[\"TensorFlowDNN\",\"SGD\",\"RandomForest\",\"LightGBM\",\"DecisionTree\",\"LinearSVM\",\"LogisticRegression\",\"MultinomialNaiveBayes\",\"AveragedPerceptronClassifier\",\"GradientBoosting\",\"TensorFlowLinearClassifier\",\"BernoulliNaiveBayes\",\"XGBoostClassifier\",\"TabnetClassifier\",\"SVM\",\"ExtremeRandomTrees\",\"KNN\"],\"private_models\":[],\"auto_blacklist\":true,\"blacklist_samples_reached\":false,\"exclude_nan_labels\":true,\"verbosity\":20,\"_debug_log\":\"azureml_automl.log\",\"show_warnings\":false,\"model_explainability\":true,\"service_url\":null,\"sdk_url\":null,\"sdk_packages\":null,\"enable_onnx_compatible_models\":false,\"enable_split_onnx_featurizer_estimator_models\":false,\"vm_type\":\"STANDARD_D4\",\"telemetry_verbosity\":20,\"send_telemetry\":true,\"enable_dnn\":false,\"scenario\":\"AutoML\",\"environment_label\":null,\"save_mlflow\":false,\"enable_categorical_indicators\":false,\"force_text_dnn\":false,\"enable_feature_sweeping\":true,\"enable_early_stopping\":true,\"early_stopping_n_iters\":10,\"arguments\":null,\"dataset_id\":\"a9a25856-6a51-4ce6-a112-8e3da5dda378\",\"hyperdrive_config\":null,\"validation_dataset_id\":null,\"run_source\":null,\"metrics\":null,\"enable_metric_confidence\":false,\"enable_ensembling\":true,\"enable_stack_ensembling\":true,\"ensemble_iterations\":15,\"enable_tf\":false,\"enable_subsampling\":null,\"subsample_seed\":null,\"enable_nimbusml\":false,\"enable_streaming\":false,\"force_streaming\":false,\"track_child_runs\":true,\"n_best_runs\":1,\"allowed_private_models\":[],\"label_column_name\":\"y\",\"weight_column_name\":null,\"cv_split_column_names\":null,\"enable_local_managed\":false,\"_local_managed_run_id\":null,\"cost_mode\":1,\"lag_length\":0,\"metric_operation\":\"maximize\",\"preprocess\":true}',\n  'DataPrepJsonString': '{\\\\\"training_data\\\\\": {\\\\\"datasetId\\\\\": \\\\\"a9a25856-6a51-4ce6-a112-8e3da5dda378\\\\\"}, \\\\\"datasets\\\\\": 0}',\n  'EnableSubsampling': None,\n  'runTemplate': 'AutoML',\n  'azureml.runsource': 'automl',\n  'display_task_type': 'classification',\n  'dependencies_versions': '{\"azureml-widgets\": \"1.47.0\", \"azureml-training-tabular\": \"1.47.0\", \"azureml-train\": \"1.47.0\", \"azureml-train-restclients-hyperdrive\": \"1.47.0\", \"azureml-train-core\": \"1.47.0\", \"azureml-train-automl\": \"1.47.0\", \"azureml-train-automl-runtime\": \"1.47.0\", \"azureml-train-automl-client\": \"1.47.0\", \"azureml-tensorboard\": \"1.47.0\", \"azureml-telemetry\": \"1.47.0\", \"azureml-sdk\": \"1.47.0\", \"azureml-samples\": \"0+unknown\", \"azureml-responsibleai\": \"1.47.0\", \"azureml-pipeline\": \"1.47.0\", \"azureml-pipeline-steps\": \"1.47.0\", \"azureml-pipeline-core\": \"1.47.0\", \"azureml-opendatasets\": \"1.47.0\", \"azureml-mlflow\": \"1.47.0\", \"azureml-interpret\": \"1.47.0\", \"azureml-inference-server-http\": \"0.7.6\", \"azureml-explain-model\": \"1.47.0\", \"azureml-defaults\": \"1.47.0\", \"azureml-dataset-runtime\": \"1.47.0\", \"azureml-dataprep\": \"4.5.7\", \"azureml-dataprep-rslex\": \"2.11.4\", \"azureml-dataprep-native\": \"38.0.0\", \"azureml-datadrift\": \"1.47.0\", \"azureml-core\": \"1.47.0\", \"azureml-contrib-services\": \"1.47.0\", \"azureml-contrib-server\": \"1.47.0\", \"azureml-contrib-reinforcementlearning\": \"1.47.0\", \"azureml-contrib-pipeline-steps\": \"1.47.0\", \"azureml-contrib-notebook\": \"1.47.0\", \"azureml-contrib-fairness\": \"1.47.0\", \"azureml-contrib-dataset\": \"1.47.0\", \"azureml-contrib-automl-pipeline-steps\": \"1.47.0\", \"azureml-cli-common\": \"1.47.0\", \"azureml-automl-runtime\": \"1.47.0\", \"azureml-automl-dnn-nlp\": \"1.47.0\", \"azureml-automl-core\": \"1.47.0\", \"azureml-accel-models\": \"1.47.0\"}',\n  '_aml_system_scenario_identification': 'Remote.Parent',\n  'ClientType': 'SDK',\n  'PlatformVersion': 'DPV1',\n  'environment_cpu_name': 'AzureML-AutoML',\n  'environment_cpu_label': 'nimbus-deprecation',\n  'environment_gpu_name': 'AzureML-AutoML-GPU',\n  'environment_gpu_label': 'prod',\n  'root_attribution': 'automl',\n  'attribution': 'AutoML',\n  'Orchestrator': 'AutoML',\n  'CancelUri': 'https://westeurope.api.azureml.ms/jasmine/v1.0/subscriptions/d4b1a742-d22b-4598-975b-f7d380af08da/resourceGroups/vg-adl-sco-dev-rg/providers/Microsoft.MachineLearningServices/workspaces/vg-adl-sco-dev-ml/experimentids/51c4648a-61d0-4dfd-9c10-4b91cdcbd04d/cancel/AutoML_83f6e4d1-0ff5-4e32-8313-e42fcb442cf5',\n  'ClientSdkVersion': '1.48.0.post2',\n  'snapshotId': '00000000-0000-0000-0000-000000000000',\n  'SetupRunId': 'AutoML_83f6e4d1-0ff5-4e32-8313-e42fcb442cf5_setup',\n  'SetupRunContainerId': 'dcid.AutoML_83f6e4d1-0ff5-4e32-8313-e42fcb442cf5_setup',\n  'FeaturizationRunJsonPath': 'featurizer_container.json',\n  'FeaturizationRunId': 'AutoML_83f6e4d1-0ff5-4e32-8313-e42fcb442cf5_featurize',\n  'ProblemInfoJsonString': '{\"dataset_num_categorical\": 0, \"is_sparse\": true, \"subsampling\": false, \"has_extra_col\": true, \"dataset_classes\": 2, \"dataset_features\": 32, \"dataset_samples\": 1048575, \"single_frequency_class_detected\": false}',\n  'ModelExplainRunId': 'AutoML_83f6e4d1-0ff5-4e32-8313-e42fcb442cf5_ModelExplain'},\n 'inputDatasets': [{'dataset': {'id': 'a9a25856-6a51-4ce6-a112-8e3da5dda378'}, 'consumptionDetails': {'type': 'RunInput', 'inputName': 'training_data', 'mechanism': 'Direct'}}],\n 'outputDatasets': [],\n 'logFiles': {},\n 'submittedBy': 'Christian Beckers'}"
          },
          "metadata": {}
        },
        {
          "output_type": "stream",
          "name": "stdout",
          "text": "Performing interactive authentication. Please follow the instructions on the terminal.\nPerforming interactive authentication. Please follow the instructions on the terminal.\nPerforming interactive authentication. Please follow the instructions on the terminal.\n"
        },
        {
          "output_type": "stream",
          "name": "stderr",
          "text": "WARNING:azureml._vendor.azure_cli_core.auth.identity:To sign in, use a web browser to open the page https://microsoft.com/devicelogin and enter the code DYKG6N7HM to authenticate.\n"
        }
      ],
      "execution_count": 7,
      "metadata": {
        "gather": {
          "logged": 1679055606275
        },
        "jupyter": {
          "outputs_hidden": false,
          "source_hidden": false
        },
        "nteract": {
          "transient": {
            "deleting": false
          }
        }
      }
    },
    {
      "cell_type": "markdown",
      "source": [
        "## Best Model\n",
        "\n",
        "TODO: In the cell below, get the best model from the automl experiments and display all the properties of the model.\n",
        "\n"
      ],
      "metadata": {}
    },
    {
      "cell_type": "code",
      "source": [
        "best_automl_run = remote_run.get_best_child()\n",
        "best_automl_run.register_model('covid_death_pred_automl_best', 'outputs/model.pkl')"
      ],
      "outputs": [
        {
          "output_type": "execute_result",
          "execution_count": 8,
          "data": {
            "text/plain": "Model(workspace=Workspace.create(name='vg-adl-sco-dev-ml', subscription_id='d4b1a742-d22b-4598-975b-f7d380af08da', resource_group='vg-adl-sco-dev-rg'), name=covid_death_pred_automl_best, id=covid_death_pred_automl_best:2, version=2, tags={}, properties={})"
          },
          "metadata": {}
        }
      ],
      "execution_count": 8,
      "metadata": {
        "gather": {
          "logged": 1679055607464
        },
        "jupyter": {
          "outputs_hidden": false,
          "source_hidden": false
        },
        "nteract": {
          "transient": {
            "deleting": false
          }
        }
      }
    },
    {
      "cell_type": "code",
      "source": [
        "# Print model details\n",
        "remote_run.get_output()[1][1].estimators"
      ],
      "outputs": [
        {
          "output_type": "stream",
          "name": "stderr",
          "text": "WARNING:root:The version of the SDK does not match the version the model was trained on.\nWARNING:root:The consistency in the result may not be guaranteed.\nWARNING:root:Package:azureml-automl-core, training version:1.48.0, current version:1.47.0\nPackage:azureml-automl-runtime, training version:1.48.0.post2, current version:1.47.0\nPackage:azureml-core, training version:1.48.0, current version:1.47.0\nPackage:azureml-dataprep, training version:4.8.6, current version:4.5.7\nPackage:azureml-dataprep-rslex, training version:2.15.2, current version:2.11.4\nPackage:azureml-dataset-runtime, training version:1.48.0, current version:1.47.0\nPackage:azureml-defaults, training version:1.48.0, current version:1.47.0\nPackage:azureml-interpret, training version:1.48.0, current version:1.47.0\nPackage:azureml-mlflow, training version:1.48.0, current version:1.47.0\nPackage:azureml-pipeline-core, training version:1.48.0, current version:1.47.0\nPackage:azureml-responsibleai, training version:1.48.0, current version:1.47.0\nPackage:azureml-telemetry, training version:1.48.0, current version:1.47.0\nPackage:azureml-train-automl-client, training version:1.48.0, current version:1.47.0\nPackage:azureml-train-automl-runtime, training version:1.48.0.post2, current version:1.47.0\nPackage:azureml-train-core, training version:1.48.0, current version:1.47.0\nPackage:azureml-train-restclients-hyperdrive, training version:1.48.0, current version:1.47.0\nPackage:azureml-training-tabular, training version:1.48.0, current version:1.47.0\nWARNING:root:Please ensure the version of your local conda dependencies match the version on which your model was trained in order to properly retrieve your model.\n"
        },
        {
          "output_type": "execute_result",
          "execution_count": 14,
          "data": {
            "text/plain": "[('22',\n  Pipeline(memory=None,\n           steps=[('standardscalerwrapper',\n                   StandardScalerWrapper(copy=True, with_mean=False, with_std=False)),\n                  ('xgboostclassifier',\n                   XGBoostClassifier(booster='gbtree', colsample_bytree=0.7, eta=0.3, gamma=0, max_depth=5, max_leaves=0, n_estimators=100, n_jobs=0, objective='reg:logistic', problem_info=ProblemInfo(gpu_training_param_dict={'processing_unit_type': 'cpu'}), random_state=0, reg_alpha=1.5625, reg_lambda=2.1875, subsample=0.7, tree_method='auto'))],\n           verbose=False)),\n ('0',\n  Pipeline(memory=None,\n           steps=[('maxabsscaler', MaxAbsScaler(copy=True)),\n                  ('lightgbmclassifier',\n                   LightGBMClassifier(min_data_in_leaf=20, n_jobs=-1, problem_info=ProblemInfo(gpu_training_param_dict={'processing_unit_type': 'cpu'}), random_state=None))],\n           verbose=False)),\n ('34',\n  Pipeline(memory=None,\n           steps=[('standardscalerwrapper',\n                   StandardScalerWrapper(copy=True, with_mean=False, with_std=False)),\n                  ('xgboostclassifier',\n                   XGBoostClassifier(booster='gbtree', colsample_bytree=1, eta=0.2, grow_policy='lossguide', max_bin=255, max_depth=4, max_leaves=15, n_estimators=100, n_jobs=0, objective='reg:logistic', problem_info=ProblemInfo(gpu_training_param_dict={'processing_unit_type': 'cpu'}), random_state=0, reg_alpha=0.9375, reg_lambda=0, subsample=0.5, tree_method='hist'))],\n           verbose=False)),\n ('29',\n  Pipeline(memory=None,\n           steps=[('standardscalerwrapper',\n                   StandardScalerWrapper(copy=True, with_mean=False, with_std=False)),\n                  ('xgboostclassifier',\n                   XGBoostClassifier(booster='gbtree', colsample_bytree=0.7, eta=0.4, gamma=5, max_depth=6, max_leaves=0, n_estimators=100, n_jobs=0, objective='reg:logistic', problem_info=ProblemInfo(gpu_training_param_dict={'processing_unit_type': 'cpu'}), random_state=0, reg_alpha=1.7708333333333335, reg_lambda=1.5625, subsample=0.5, tree_method='auto'))],\n           verbose=False)),\n ('1',\n  Pipeline(memory=None,\n           steps=[('maxabsscaler', MaxAbsScaler(copy=True)),\n                  ('xgboostclassifier',\n                   XGBoostClassifier(n_jobs=0, problem_info=ProblemInfo(gpu_training_param_dict={'processing_unit_type': 'cpu'}), random_state=0, tree_method='auto'))],\n           verbose=False)),\n ('35',\n  Pipeline(memory=None,\n           steps=[('sparsenormalizer', Normalizer(copy=True, norm='l2')),\n                  ('xgboostclassifier',\n                   XGBoostClassifier(booster='gbtree', colsample_bytree=0.7, eta=0.3, gamma=0.01, max_depth=7, max_leaves=0, n_estimators=50, n_jobs=0, objective='reg:logistic', problem_info=ProblemInfo(gpu_training_param_dict={'processing_unit_type': 'cpu'}), random_state=0, reg_alpha=0, reg_lambda=2.1875, subsample=1, tree_method='auto'))],\n           verbose=False)),\n ('32',\n  Pipeline(memory=None,\n           steps=[('sparsenormalizer', Normalizer(copy=True, norm='max')),\n                  ('xgboostclassifier',\n                   XGBoostClassifier(booster='gbtree', colsample_bytree=0.8, eta=0.4, gamma=0, max_depth=9, max_leaves=0, n_estimators=25, n_jobs=0, objective='reg:logistic', problem_info=ProblemInfo(gpu_training_param_dict={'processing_unit_type': 'cpu'}), random_state=0, reg_alpha=2.1875, reg_lambda=0.3125, subsample=0.7, tree_method='auto'))],\n           verbose=False)),\n ('15',\n  Pipeline(memory=None,\n           steps=[('maxabsscaler', MaxAbsScaler(copy=True)),\n                  ('lightgbmclassifier',\n                   LightGBMClassifier(boosting_type='goss', colsample_bytree=0.5944444444444444, learning_rate=0.026323157894736843, max_bin=310, max_depth=-1, min_child_weight=3, min_data_in_leaf=1e-05, min_split_gain=0.7894736842105263, n_estimators=50, n_jobs=-1, num_leaves=131, problem_info=ProblemInfo(gpu_training_param_dict={'processing_unit_type': 'cpu'}), random_state=None, reg_alpha=0.3684210526315789, reg_lambda=1, subsample=1))],\n           verbose=False))]"
          },
          "metadata": {}
        }
      ],
      "execution_count": 14,
      "metadata": {
        "gather": {
          "logged": 1679058937759
        }
      }
    },
    {
      "cell_type": "markdown",
      "source": [
        "## Model Deployment\n",
        "\n",
        "Remember you have to deploy only one of the two models you trained but you still need to register both the models. Perform the steps in the rest of this notebook only if you wish to deploy this model.\n",
        "\n",
        "TODO: In the cell below, register the model, create an inference config and deploy the model as a web service."
      ],
      "metadata": {}
    },
    {
      "cell_type": "code",
      "source": [],
      "outputs": [],
      "execution_count": null,
      "metadata": {
        "gather": {
          "logged": 1598431435189
        },
        "jupyter": {
          "outputs_hidden": false,
          "source_hidden": false
        },
        "nteract": {
          "transient": {
            "deleting": false
          }
        }
      }
    },
    {
      "cell_type": "markdown",
      "source": [
        "TODO: In the cell below, send a request to the web service you deployed to test it."
      ],
      "metadata": {
        "collapsed": true,
        "gather": {
          "logged": 1598431657736
        },
        "jupyter": {
          "outputs_hidden": false,
          "source_hidden": false
        },
        "nteract": {
          "transient": {
            "deleting": false
          }
        }
      }
    },
    {
      "cell_type": "code",
      "source": [],
      "outputs": [],
      "execution_count": null,
      "metadata": {
        "gather": {
          "logged": 1598432707604
        },
        "jupyter": {
          "outputs_hidden": false,
          "source_hidden": false
        },
        "nteract": {
          "transient": {
            "deleting": false
          }
        }
      }
    },
    {
      "cell_type": "markdown",
      "source": [
        "TODO: In the cell below, print the logs of the web service and delete the service"
      ],
      "metadata": {
        "collapsed": true,
        "gather": {
          "logged": 1598432765711
        },
        "jupyter": {
          "outputs_hidden": false,
          "source_hidden": false
        },
        "nteract": {
          "transient": {
            "deleting": false
          }
        }
      }
    },
    {
      "cell_type": "code",
      "source": [],
      "outputs": [],
      "execution_count": null,
      "metadata": {
        "jupyter": {
          "outputs_hidden": false,
          "source_hidden": false
        },
        "nteract": {
          "transient": {
            "deleting": false
          }
        }
      }
    },
    {
      "cell_type": "markdown",
      "source": [
        "**Submission Checklist**\n",
        "- I have registered the model.\n",
        "- I have deployed the model with the best accuracy as a webservice.\n",
        "- I have tested the webservice by sending a request to the model endpoint.\n",
        "- I have deleted the webservice and shutdown all the computes that I have used.\n",
        "- I have taken a screenshot showing the model endpoint as active.\n",
        "- The project includes a file containing the environment details.\n"
      ],
      "metadata": {}
    },
    {
      "cell_type": "markdown",
      "source": [],
      "metadata": {}
    }
  ],
  "metadata": {
    "kernel_info": {
      "name": "python3"
    },
    "kernelspec": {
      "name": "python3",
      "language": "python",
      "display_name": "Python 3 (ipykernel)"
    },
    "language_info": {
      "name": "python",
      "version": "3.8.5",
      "mimetype": "text/x-python",
      "codemirror_mode": {
        "name": "ipython",
        "version": 3
      },
      "pygments_lexer": "ipython3",
      "nbconvert_exporter": "python",
      "file_extension": ".py"
    },
    "nteract": {
      "version": "nteract-front-end@1.0.0"
    },
    "microsoft": {
      "ms_spell_check": {
        "ms_spell_check_language": "en"
      },
      "host": {
        "AzureML": {
          "notebookHasBeenCompleted": true
        }
      }
    }
  },
  "nbformat": 4,
  "nbformat_minor": 2
}